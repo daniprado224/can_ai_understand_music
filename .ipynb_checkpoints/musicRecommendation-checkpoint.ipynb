{
 "cells": [
  {
   "cell_type": "markdown",
   "id": "7c420288",
   "metadata": {},
   "source": [
    "## Import "
   ]
  },
  {
   "cell_type": "code",
   "execution_count": 1,
   "id": "299ed00b",
   "metadata": {},
   "outputs": [],
   "source": [
    "import json \n",
    "import pandas as pd "
   ]
  },
  {
   "cell_type": "markdown",
   "id": "a576a576",
   "metadata": {},
   "source": [
    "## Open Spotify Files"
   ]
  },
  {
   "cell_type": "code",
   "execution_count": 11,
   "id": "38a26c45",
   "metadata": {},
   "outputs": [],
   "source": [
    "file1 = open('SpotifyAccount DataUserOne/StreamingHistory_music_0.json')\n",
    "file2 = open('SpotifyAccount DataUserOne/StreamingHistory_music_1.json')\n",
    "file3 = open('SpotifyAccount DataUserOne/StreamingHistory_music_2.json')"
   ]
  },
  {
   "cell_type": "markdown",
   "id": "fb637273",
   "metadata": {},
   "source": [
    "## Get Most Streamed Song from File 1 "
   ]
  },
  {
   "cell_type": "code",
   "execution_count": 10,
   "id": "6ae84e27",
   "metadata": {
    "scrolled": true
   },
   "outputs": [
    {
     "name": "stdout",
     "output_type": "stream",
     "text": [
      "Most listened to song:\n",
      "Artist: Taylor Swift\n",
      "Track: happiness\n",
      "Milliseconds played: 1893848\n"
     ]
    }
   ],
   "source": [
    "## create summary statistics\n",
    "## song i listened to most, one least, aritst i heard the most, song i heard most recently\n",
    "\n",
    "## look at my data and data i might want to mix it with, so learn how to alogn/ merge these fields\n",
    "## go back to book chapter (alternating lee sqaures) take a big matrix \n",
    "## requires that i have access to simple python porgrams, it is a math package technique \n",
    "\n",
    "with open('SpotifyAccount DataUserOne/StreamingHistory_music_0.json', 'r') as file1:\n",
    "    # Load the JSON data\n",
    "    data1 = json.load(file1)\n",
    "\n",
    "# Initialize variables to keep track of the most listened to song\n",
    "most_listened_song = None\n",
    "max_ms_played = 0\n",
    "\n",
    "# Iterate through the songs\n",
    "for song in data1:\n",
    "    ms_played = song['msPlayed']\n",
    "    if ms_played > max_ms_played:\n",
    "        max_ms_played = ms_played\n",
    "        most_listened_song = song\n",
    "\n",
    "# Print the most listened to song\n",
    "if most_listened_song:\n",
    "    print(\"Most listened to song:\")\n",
    "    print(\"Artist:\", most_listened_song['artistName'])\n",
    "    print(\"Track:\", most_listened_song['trackName'])\n",
    "    print(\"Milliseconds played:\", most_listened_song['msPlayed'])\n",
    "else:\n",
    "    print(\"No songs found.\")"
   ]
  },
  {
   "cell_type": "code",
   "execution_count": null,
   "id": "7f1dfa17",
   "metadata": {},
   "outputs": [],
   "source": [
    "## Get Most Streamed Song from File 2"
   ]
  },
  {
   "cell_type": "code",
   "execution_count": 12,
   "id": "de4a3ca2",
   "metadata": {},
   "outputs": [
    {
     "name": "stdout",
     "output_type": "stream",
     "text": [
      "Most listened to song:\n",
      "Artist: Taylor Swift\n",
      "Track: Lover - Live From Paris\n",
      "Milliseconds played: 679653\n"
     ]
    }
   ],
   "source": [
    "with open('SpotifyAccount DataUserOne/StreamingHistory_music_1.json', 'r') as file1:\n",
    "    # Load the JSON data\n",
    "    data2 = json.load(file1)\n",
    "\n",
    "# Initialize variables to keep track of the most listened to song\n",
    "most_listened_song = None\n",
    "max_ms_played = 0\n",
    "\n",
    "# Iterate through the songs\n",
    "for song in data2:\n",
    "    ms_played = song['msPlayed']\n",
    "    if ms_played > max_ms_played:\n",
    "        max_ms_played = ms_played\n",
    "        most_listened_song = song\n",
    "\n",
    "# Print the most listened to song\n",
    "if most_listened_song:\n",
    "    print(\"Most listened to song:\")\n",
    "    print(\"Artist:\", most_listened_song['artistName'])\n",
    "    print(\"Track:\", most_listened_song['trackName'])\n",
    "    print(\"Milliseconds played:\", most_listened_song['msPlayed'])\n",
    "else:\n",
    "    print(\"No songs found.\")"
   ]
  },
  {
   "cell_type": "code",
   "execution_count": null,
   "id": "f2166ee3",
   "metadata": {},
   "outputs": [],
   "source": [
    "## Get Most Streamed Song from File 2 "
   ]
  },
  {
   "cell_type": "code",
   "execution_count": 13,
   "id": "97a5c9bd",
   "metadata": {},
   "outputs": [
    {
     "name": "stdout",
     "output_type": "stream",
     "text": [
      "Most listened to song:\n",
      "Artist: Minnz Piano\n",
      "Track: Everything Has Changed (Extended Wedding Version)\n",
      "Milliseconds played: 760058\n"
     ]
    }
   ],
   "source": [
    "with open('SpotifyAccount DataUserOne/StreamingHistory_music_2.json', 'r') as file1:\n",
    "    # Load the JSON data\n",
    "    data3 = json.load(file1)\n",
    "\n",
    "# Initialize variables to keep track of the most listened to song\n",
    "most_listened_song = None\n",
    "max_ms_played = 0\n",
    "\n",
    "# Iterate through the songs\n",
    "for song in data3:\n",
    "    ms_played = song['msPlayed']\n",
    "    if ms_played > max_ms_played:\n",
    "        max_ms_played = ms_played\n",
    "        most_listened_song = song\n",
    "\n",
    "# Print the most listened to song\n",
    "if most_listened_song:\n",
    "    print(\"Most listened to song:\")\n",
    "    print(\"Artist:\", most_listened_song['artistName'])\n",
    "    print(\"Track:\", most_listened_song['trackName'])\n",
    "    print(\"Milliseconds played:\", most_listened_song['msPlayed'])\n",
    "else:\n",
    "    print(\"No songs found.\")"
   ]
  },
  {
   "cell_type": "markdown",
   "id": "619f3b27",
   "metadata": {},
   "source": [
    "## Get Information for Most Streamed Song "
   ]
  },
  {
   "cell_type": "code",
   "execution_count": 22,
   "id": "a0ff0b1f",
   "metadata": {},
   "outputs": [
    {
     "name": "stdout",
     "output_type": "stream",
     "text": [
      "Most listened to artist: Taylor Swift\n",
      "Most listened to song: happiness\n"
     ]
    }
   ],
   "source": [
    "# Initialize variables to keep track of the most listened to artist and song\n",
    "most_listened_artist = None\n",
    "most_listened_song = None\n",
    "max_ms_played = 0\n",
    "def process_file(file):\n",
    "    data = json.load(file)\n",
    "    return data\n",
    "\n",
    "# Initialize variables to keep track of the most listened to artist and song\n",
    "most_listened_artist = None\n",
    "most_listened_song = None\n",
    "max_ms_played = 0\n",
    "\n",
    "# Process each file\n",
    "current = 0\n",
    "for file in [file1, file2, file3]:\n",
    "    with open('SpotifyAccount DataUserOne/StreamingHistory_music_'+ str(current)+ '.json', 'r') as file:\n",
    "        data = process_file(file)\n",
    "        current += 1\n",
    "\n",
    "    # Iterate through the songs in this file\n",
    "    for song in data:\n",
    "        ms_played = song['msPlayed']\n",
    "        if ms_played > max_ms_played:\n",
    "            max_ms_played = ms_played\n",
    "            most_listened_artist = song['artistName']\n",
    "            most_listened_song = song['trackName']\n",
    "\n",
    "# Print the most listened to artist and song\n",
    "if most_listened_artist and most_listened_song:\n",
    "    print(\"Most listened to artist:\", most_listened_artist)\n",
    "    print(\"Most listened to song:\", most_listened_song)\n",
    "else:\n",
    "    print(\"No data found.\")\n"
   ]
  },
  {
   "cell_type": "markdown",
   "id": "d94ce36b",
   "metadata": {},
   "source": [
    "## Get Information for Least Streamed Song"
   ]
  },
  {
   "cell_type": "code",
   "execution_count": 26,
   "id": "25343613",
   "metadata": {
    "scrolled": true
   },
   "outputs": [
    {
     "name": "stdout",
     "output_type": "stream",
     "text": [
      "Least listened to artist: Miley Cyrus\n",
      "Least listened to song: Flowers\n",
      "Ms heard: 0\n"
     ]
    }
   ],
   "source": [
    "def process_file(file):\n",
    "    data = json.load(file)\n",
    "    return data\n",
    "\n",
    "# Initialize variables to keep track of the most listened to artist and song\n",
    "least_listened_artist = None\n",
    "least_listened_song = None\n",
    "min_ms_played = float('inf')\n",
    "\n",
    "# Process each file\n",
    "current = 0\n",
    "for file in [file1, file2, file3]:\n",
    "    with open('SpotifyAccount DataUserOne/StreamingHistory_music_'+ str(current)+ '.json', 'r') as file:\n",
    "        data = process_file(file)\n",
    "        current += 1\n",
    "\n",
    "    # Iterate through the songs in this file\n",
    "    for song in data:\n",
    "        ms_played = song['msPlayed']\n",
    "        if ms_played < min_ms_played:\n",
    "            min_ms_played = ms_played\n",
    "            least_listened_artist = song['artistName']\n",
    "            least_listened_song = song['trackName']\n",
    "\n",
    "# Print the most listened to artist and song\n",
    "if least_listened_artist and least_listened_song:\n",
    "    print(\"Least listened to artist:\", least_listened_artist)\n",
    "    print(\"Least listened to song:\", least_listened_song)\n",
    "    print(\"Ms heard:\", min_ms_played)\n",
    "else:\n",
    "    print(\"No data found.\")"
   ]
  },
  {
   "cell_type": "markdown",
   "id": "9c25bbbc",
   "metadata": {},
   "source": [
    "## Do some calculations "
   ]
  },
  {
   "cell_type": "code",
   "execution_count": 42,
   "id": "d9dfbedf",
   "metadata": {},
   "outputs": [
    {
     "name": "stdout",
     "output_type": "stream",
     "text": [
      "Total time listened to Taylor Swift: 1000071593 miliseconds\n",
      "  That is : 16667 minutes\n",
      "  Or :  277 hours\n",
      "  Equivalent to : 11 days!\n"
     ]
    }
   ],
   "source": [
    "total_ms = 0\n",
    "current = 0\n",
    "def milliseconds_to_minutes(milliseconds):\n",
    "    return milliseconds / 60000\n",
    "\n",
    "# Function to convert milliseconds to hours\n",
    "def milliseconds_to_hours(milliseconds):\n",
    "    return milliseconds / 3600000\n",
    "\n",
    "def hours_to_days(hours):\n",
    "    return hours / 24\n",
    "\n",
    "for file in [file1, file2, file3]:\n",
    "    with open('SpotifyAccount DataUserOne/StreamingHistory_music_'+ str(current)+ '.json', 'r') as file:\n",
    "        data = process_file(file)\n",
    "        current += 1\n",
    "\n",
    "    # Iterate through the songs in this file\n",
    "    for song in data:\n",
    "        ms_played = song['msPlayed']\n",
    "        if song['artistName'] == most_listened_artist:\n",
    "            total_ms += song['msPlayed']\n",
    "            \n",
    "total_minutes = milliseconds_to_minutes(total_ms)\n",
    "total_hours = milliseconds_to_hours(total_ms)\n",
    "total_days = hours_to_days(total_hours)\n",
    "\n",
    "print(\"Total time listened to\", most_listened_artist + \":\", int(total_ms), \"miliseconds\")\n",
    "print(\"  That is :\", int(total_minutes), \"minutes\")\n",
    "print(\"  Or : \", int(total_hours), \"hours\")\n",
    "print(\"  Equivalent to :\", int(total_days), \"days!\")"
   ]
  },
  {
   "cell_type": "code",
   "execution_count": null,
   "id": "3edb891d",
   "metadata": {},
   "outputs": [],
   "source": []
  }
 ],
 "metadata": {
  "kernelspec": {
   "display_name": "Python 3 (ipykernel)",
   "language": "python",
   "name": "python3"
  },
  "language_info": {
   "codemirror_mode": {
    "name": "ipython",
    "version": 3
   },
   "file_extension": ".py",
   "mimetype": "text/x-python",
   "name": "python",
   "nbconvert_exporter": "python",
   "pygments_lexer": "ipython3",
   "version": "3.9.13"
  }
 },
 "nbformat": 4,
 "nbformat_minor": 5
}

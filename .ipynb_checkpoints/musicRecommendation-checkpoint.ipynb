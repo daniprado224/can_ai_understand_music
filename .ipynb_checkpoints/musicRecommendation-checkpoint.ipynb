{
 "cells": [
  {
   "cell_type": "markdown",
   "id": "7c420288",
   "metadata": {},
   "source": [
    "## Import "
   ]
  },
  {
   "cell_type": "code",
   "execution_count": 1,
   "id": "299ed00b",
   "metadata": {},
   "outputs": [],
   "source": [
    "import json \n",
    "import pandas as pd \n",
    "import seaborn as sns\n",
    "import matplotlib.pyplot as plt\n",
    "from sklearn.model_selection import train_test_split\n",
    "from sklearn.naive_bayes import GaussianNB\n",
    "from sklearn.metrics import accuracy_score"
   ]
  },
  {
   "cell_type": "markdown",
   "id": "a576a576",
   "metadata": {},
   "source": [
    "## Open Spotify Files"
   ]
  },
  {
   "cell_type": "code",
   "execution_count": 2,
   "id": "38a26c45",
   "metadata": {},
   "outputs": [],
   "source": [
    "file1 = open('SpotifyAccount DataUserOne/StreamingHistory_music_0.json')\n",
    "file2 = open('SpotifyAccount DataUserOne/StreamingHistory_music_1.json')\n",
    "file3 = open('SpotifyAccount DataUserOne/StreamingHistory_music_2.json')"
   ]
  },
  {
   "cell_type": "markdown",
   "id": "d3ce2df0",
   "metadata": {},
   "source": [
    "## Get Most Streamed Song from File 1 "
   ]
  },
  {
   "cell_type": "code",
   "execution_count": 3,
   "id": "6ae84e27",
   "metadata": {
    "scrolled": true
   },
   "outputs": [
    {
     "name": "stdout",
     "output_type": "stream",
     "text": [
      "Most listened to song:\n",
      "Artist: Taylor Swift\n",
      "Track: happiness\n",
      "Milliseconds played: 1893848\n"
     ]
    }
   ],
   "source": [
    "## create summary statistics\n",
    "## song i listened to most, one least, aritst i heard the most, song i heard most recently\n",
    "\n",
    "## look at my data and data i might want to mix it with, so learn how to alogn/ merge these fields\n",
    "## go back to book chapter (alternating lee sqaures) take a big matrix \n",
    "## requires that i have access to simple python porgrams, it is a math package technique \n",
    "\n",
    "with open('SpotifyAccount DataUserOne/StreamingHistory_music_0.json', 'r') as file1:\n",
    "    # Load the JSON data\n",
    "    data1 = json.load(file1)\n",
    "\n",
    "# Initialize variables to keep track of the most listened to song\n",
    "most_listened_song = None\n",
    "max_ms_played = 0\n",
    "\n",
    "# Iterate through the songs\n",
    "for song in data1:\n",
    "    ms_played = song['msPlayed']\n",
    "    if ms_played > max_ms_played:\n",
    "        max_ms_played = ms_played\n",
    "        most_listened_song = song\n",
    "\n",
    "# Print the most listened to song\n",
    "if most_listened_song:\n",
    "    print(\"Most listened to song:\")\n",
    "    print(\"Artist:\", most_listened_song['artistName'])\n",
    "    print(\"Track:\", most_listened_song['trackName'])\n",
    "    print(\"Milliseconds played:\", most_listened_song['msPlayed'])\n",
    "else:\n",
    "    print(\"No songs found.\")"
   ]
  },
  {
   "cell_type": "markdown",
   "id": "f424a52f",
   "metadata": {},
   "source": [
    "## Get Most Streamed Song from File 2"
   ]
  },
  {
   "cell_type": "code",
   "execution_count": 4,
   "id": "3cfee69c",
   "metadata": {},
   "outputs": [
    {
     "name": "stdout",
     "output_type": "stream",
     "text": [
      "Most listened to song:\n",
      "Artist: Taylor Swift\n",
      "Track: Lover - Live From Paris\n",
      "Milliseconds played: 679653\n"
     ]
    }
   ],
   "source": [
    "with open('SpotifyAccount DataUserOne/StreamingHistory_music_1.json', 'r') as file1:\n",
    "    # Load the JSON data\n",
    "    data2 = json.load(file1)\n",
    "\n",
    "# Initialize variables to keep track of the most listened to song\n",
    "most_listened_song = None\n",
    "max_ms_played = 0\n",
    "\n",
    "# Iterate through the songs\n",
    "for song in data2:\n",
    "    ms_played = song['msPlayed']\n",
    "    if ms_played > max_ms_played:\n",
    "        max_ms_played = ms_played\n",
    "        most_listened_song = song\n",
    "\n",
    "# Print the most listened to song\n",
    "if most_listened_song:\n",
    "    print(\"Most listened to song:\")\n",
    "    print(\"Artist:\", most_listened_song['artistName'])\n",
    "    print(\"Track:\", most_listened_song['trackName'])\n",
    "    print(\"Milliseconds played:\", most_listened_song['msPlayed'])\n",
    "else:\n",
    "    print(\"No songs found.\")"
   ]
  },
  {
   "cell_type": "code",
   "execution_count": 5,
   "id": "6e449cf0",
   "metadata": {},
   "outputs": [],
   "source": [
    "## Get Most Streamed Song from File 2 "
   ]
  },
  {
   "cell_type": "code",
   "execution_count": 6,
   "id": "02e2856b",
   "metadata": {},
   "outputs": [
    {
     "name": "stdout",
     "output_type": "stream",
     "text": [
      "Most listened to song:\n",
      "Artist: Minnz Piano\n",
      "Track: Everything Has Changed (Extended Wedding Version)\n",
      "Milliseconds played: 760058\n"
     ]
    }
   ],
   "source": [
    "with open('SpotifyAccount DataUserOne/StreamingHistory_music_2.json', 'r') as file1:\n",
    "    # Load the JSON data\n",
    "    data3 = json.load(file1)\n",
    "\n",
    "# Initialize variables to keep track of the most listened to song\n",
    "most_listened_song = None\n",
    "max_ms_played = 0\n",
    "\n",
    "# Iterate through the songs\n",
    "for song in data3:\n",
    "    ms_played = song['msPlayed']\n",
    "    if ms_played > max_ms_played:\n",
    "        max_ms_played = ms_played\n",
    "        most_listened_song = song\n",
    "\n",
    "# Print the most listened to song\n",
    "if most_listened_song:\n",
    "    print(\"Most listened to song:\")\n",
    "    print(\"Artist:\", most_listened_song['artistName'])\n",
    "    print(\"Track:\", most_listened_song['trackName'])\n",
    "    print(\"Milliseconds played:\", most_listened_song['msPlayed'])\n",
    "else:\n",
    "    print(\"No songs found.\")"
   ]
  },
  {
   "cell_type": "markdown",
   "id": "753f688e",
   "metadata": {},
   "source": [
    "## Get Information for Most Streamed Song "
   ]
  },
  {
   "cell_type": "code",
   "execution_count": 7,
   "id": "002d19d6",
   "metadata": {},
   "outputs": [
    {
     "name": "stdout",
     "output_type": "stream",
     "text": [
      "Most listened to artist: Taylor Swift\n",
      "Most listened to song: happiness\n"
     ]
    }
   ],
   "source": [
    "# Initialize variables to keep track of the most listened to artist and song\n",
    "most_listened_artist = None\n",
    "most_listened_song = None\n",
    "max_ms_played = 0\n",
    "def process_file(file):\n",
    "    data = json.load(file)\n",
    "    return data\n",
    "\n",
    "# Initialize variables to keep track of the most listened to artist and song\n",
    "most_listened_artist = None\n",
    "most_listened_song = None\n",
    "max_ms_played = 0\n",
    "\n",
    "# Process each file\n",
    "current = 0\n",
    "for file in [file1, file2, file3]:\n",
    "    with open('SpotifyAccount DataUserOne/StreamingHistory_music_'+ str(current)+ '.json', 'r') as file:\n",
    "        data = process_file(file)\n",
    "        current += 1\n",
    "\n",
    "    # Iterate through the songs in this file\n",
    "    for song in data:\n",
    "        ms_played = song['msPlayed']\n",
    "        if ms_played > max_ms_played:\n",
    "            max_ms_played = ms_played\n",
    "            most_listened_artist = song['artistName']\n",
    "            most_listened_song = song['trackName']\n",
    "\n",
    "# Print the most listened to artist and song\n",
    "if most_listened_artist and most_listened_song:\n",
    "    print(\"Most listened to artist:\", most_listened_artist)\n",
    "    print(\"Most listened to song:\", most_listened_song)\n",
    "else:\n",
    "    print(\"No data found.\")\n"
   ]
  },
  {
   "cell_type": "markdown",
   "id": "12262844",
   "metadata": {},
   "source": [
    "## Get Information for Least Streamed Song"
   ]
  },
  {
   "cell_type": "code",
   "execution_count": 8,
   "id": "33b8d7e2",
   "metadata": {
    "scrolled": true
   },
   "outputs": [
    {
     "name": "stdout",
     "output_type": "stream",
     "text": [
      "Least listened to artist: Miley Cyrus\n",
      "Least listened to song: Flowers\n",
      "Ms heard: 0\n"
     ]
    }
   ],
   "source": [
    "def process_file(file):\n",
    "    data = json.load(file)\n",
    "    return data\n",
    "\n",
    "# Initialize variables to keep track of the most listened to artist and song\n",
    "least_listened_artist = None\n",
    "least_listened_song = None\n",
    "min_ms_played = float('inf')\n",
    "\n",
    "# Process each file\n",
    "current = 0\n",
    "for file in [file1, file2, file3]:\n",
    "    with open('SpotifyAccount DataUserOne/StreamingHistory_music_'+ str(current)+ '.json', 'r') as file:\n",
    "        data = process_file(file)\n",
    "        current += 1\n",
    "\n",
    "    # Iterate through the songs in this file\n",
    "    for song in data:\n",
    "        ms_played = song['msPlayed']\n",
    "        if ms_played < min_ms_played:\n",
    "            min_ms_played = ms_played\n",
    "            least_listened_artist = song['artistName']\n",
    "            least_listened_song = song['trackName']\n",
    "\n",
    "# Print the most listened to artist and song\n",
    "if least_listened_artist and least_listened_song:\n",
    "    print(\"Least listened to artist:\", least_listened_artist)\n",
    "    print(\"Least listened to song:\", least_listened_song)\n",
    "    print(\"Ms heard:\", min_ms_played)\n",
    "else:\n",
    "    print(\"No data found.\")"
   ]
  },
  {
   "cell_type": "markdown",
   "id": "56fa7d5f",
   "metadata": {},
   "source": [
    "## Do some calculations "
   ]
  },
  {
   "cell_type": "code",
   "execution_count": 9,
   "id": "b2fd2815",
   "metadata": {
    "scrolled": true
   },
   "outputs": [
    {
     "name": "stdout",
     "output_type": "stream",
     "text": [
      "Total time listened to Taylor Swift: 1000071593 miliseconds\n",
      "  That is : 16667 minutes\n",
      "  Or :  277 hours\n",
      "  Equivalent to : 11 days!\n"
     ]
    }
   ],
   "source": [
    "total_ms = 0\n",
    "current = 0\n",
    "def milliseconds_to_minutes(milliseconds):\n",
    "    return milliseconds / 60000\n",
    "\n",
    "# Function to convert milliseconds to hours\n",
    "def milliseconds_to_hours(milliseconds):\n",
    "    return milliseconds / 3600000\n",
    "\n",
    "def hours_to_days(hours):\n",
    "    return hours / 24\n",
    "\n",
    "for file in [file1, file2, file3]:\n",
    "    with open('SpotifyAccount DataUserOne/StreamingHistory_music_'+ str(current)+ '.json', 'r') as file:\n",
    "        data = process_file(file)\n",
    "        current += 1\n",
    "\n",
    "    # Iterate through the songs in this file\n",
    "    for song in data:\n",
    "        ms_played = song['msPlayed']\n",
    "        if song['artistName'] == most_listened_artist:\n",
    "            total_ms += song['msPlayed']\n",
    "            \n",
    "total_minutes = milliseconds_to_minutes(total_ms)\n",
    "total_hours = milliseconds_to_hours(total_ms)\n",
    "total_days = hours_to_days(total_hours)\n",
    "\n",
    "print(\"Total time listened to\", most_listened_artist + \":\", int(total_ms), \"miliseconds\")\n",
    "print(\"  That is :\", int(total_minutes), \"minutes\")\n",
    "print(\"  Or : \", int(total_hours), \"hours\")\n",
    "print(\"  Equivalent to :\", int(total_days), \"days!\")"
   ]
  },
  {
   "cell_type": "markdown",
   "id": "22242285",
   "metadata": {},
   "source": [
    "## Read in a Music Data Set "
   ]
  },
  {
   "cell_type": "code",
   "execution_count": 10,
   "id": "48be69c0",
   "metadata": {},
   "outputs": [],
   "source": [
    "## need metadata that will provide additional high level info or have people that listen similar to me \n",
    "## use wikemedia "
   ]
  },
  {
   "cell_type": "code",
   "execution_count": 11,
   "id": "8a3175f2",
   "metadata": {
    "scrolled": true
   },
   "outputs": [],
   "source": [
    "dataset = pd.read_csv(\"dataset.csv\")\n",
    "genres = pd.read_csv(\"genres_v2.csv\", dtype={'song_name': 'str'})  # Replace 'column_19' with the actual name of the column\n",
    "genres = pd.read_csv(\"genres_v2.csv\", low_memory=False)\n",
    "playlists = pd.read_csv(\"playlists.csv\")"
   ]
  },
  {
   "cell_type": "code",
   "execution_count": 12,
   "id": "b8732787",
   "metadata": {},
   "outputs": [
    {
     "name": "stdout",
     "output_type": "stream",
     "text": [
      "<class 'pandas.core.frame.DataFrame'>\n",
      "RangeIndex: 114000 entries, 0 to 113999\n",
      "Data columns (total 21 columns):\n",
      " #   Column            Non-Null Count   Dtype  \n",
      "---  ------            --------------   -----  \n",
      " 0   Unnamed: 0        114000 non-null  int64  \n",
      " 1   track_id          114000 non-null  object \n",
      " 2   artists           113999 non-null  object \n",
      " 3   album_name        113999 non-null  object \n",
      " 4   track_name        113999 non-null  object \n",
      " 5   popularity        114000 non-null  int64  \n",
      " 6   duration_ms       114000 non-null  int64  \n",
      " 7   explicit          114000 non-null  bool   \n",
      " 8   danceability      114000 non-null  float64\n",
      " 9   energy            114000 non-null  float64\n",
      " 10  key               114000 non-null  int64  \n",
      " 11  loudness          114000 non-null  float64\n",
      " 12  mode              114000 non-null  int64  \n",
      " 13  speechiness       114000 non-null  float64\n",
      " 14  acousticness      114000 non-null  float64\n",
      " 15  instrumentalness  114000 non-null  float64\n",
      " 16  liveness          114000 non-null  float64\n",
      " 17  valence           114000 non-null  float64\n",
      " 18  tempo             114000 non-null  float64\n",
      " 19  time_signature    114000 non-null  int64  \n",
      " 20  track_genre       114000 non-null  object \n",
      "dtypes: bool(1), float64(9), int64(6), object(5)\n",
      "memory usage: 17.5+ MB\n",
      "None\n"
     ]
    }
   ],
   "source": [
    "print(dataset.info())"
   ]
  },
  {
   "cell_type": "code",
   "execution_count": 13,
   "id": "4b433eb6",
   "metadata": {},
   "outputs": [
    {
     "name": "stdout",
     "output_type": "stream",
     "text": [
      "<class 'pandas.core.frame.DataFrame'>\n",
      "RangeIndex: 42305 entries, 0 to 42304\n",
      "Data columns (total 22 columns):\n",
      " #   Column            Non-Null Count  Dtype  \n",
      "---  ------            --------------  -----  \n",
      " 0   danceability      42305 non-null  float64\n",
      " 1   energy            42305 non-null  float64\n",
      " 2   key               42305 non-null  int64  \n",
      " 3   loudness          42305 non-null  float64\n",
      " 4   mode              42305 non-null  int64  \n",
      " 5   speechiness       42305 non-null  float64\n",
      " 6   acousticness      42305 non-null  float64\n",
      " 7   instrumentalness  42305 non-null  float64\n",
      " 8   liveness          42305 non-null  float64\n",
      " 9   valence           42305 non-null  float64\n",
      " 10  tempo             42305 non-null  float64\n",
      " 11  type              42305 non-null  object \n",
      " 12  id                42305 non-null  object \n",
      " 13  uri               42305 non-null  object \n",
      " 14  track_href        42305 non-null  object \n",
      " 15  analysis_url      42305 non-null  object \n",
      " 16  duration_ms       42305 non-null  int64  \n",
      " 17  time_signature    42305 non-null  int64  \n",
      " 18  genre             42305 non-null  object \n",
      " 19  song_name         21519 non-null  object \n",
      " 20  Unnamed: 0        20780 non-null  float64\n",
      " 21  title             20780 non-null  object \n",
      "dtypes: float64(10), int64(4), object(8)\n",
      "memory usage: 7.1+ MB\n",
      "None\n"
     ]
    }
   ],
   "source": [
    "print(genres.info())"
   ]
  },
  {
   "cell_type": "code",
   "execution_count": 14,
   "id": "93fcea9c",
   "metadata": {},
   "outputs": [],
   "source": [
    "# print(playlists.info())"
   ]
  },
  {
   "cell_type": "markdown",
   "id": "67ddf7d1",
   "metadata": {},
   "source": [
    "## Merge user data info a single dataframe "
   ]
  },
  {
   "cell_type": "code",
   "execution_count": 15,
   "id": "eaa5da9d",
   "metadata": {},
   "outputs": [
    {
     "name": "stdout",
     "output_type": "stream",
     "text": [
      "            endTime      artistName               trackName  msPlayed\n",
      "0  2023-03-05 22:40     Cheat Codes              Bets On Us    178945\n",
      "1  2023-03-06 02:12          ODESZA                   Falls      1280\n",
      "2  2023-03-06 02:13  Unknown Artist           Unknown Track     10776\n",
      "3  2023-03-06 02:17    Gin Blossoms  Follow You Down - Edit    134708\n",
      "4  2023-03-06 12:44            TIMØ   Conquistar El Planeta    162800\n"
     ]
    }
   ],
   "source": [
    "file_paths = ['SpotifyAccount DataUserOne/StreamingHistory_music_0.json',\n",
    "              'SpotifyAccount DataUserOne/StreamingHistory_music_1.json',\n",
    "              'SpotifyAccount DataUserOne/StreamingHistory_music_2.json']\n",
    "\n",
    "dfs = []\n",
    "for file_path in file_paths:\n",
    "    with open(file_path) as f:\n",
    "        combine_user_info = json.load(f)\n",
    "        dfs.append(pd.DataFrame(combine_user_info))\n",
    "\n",
    "# Concatenate all DataFrames into one\n",
    "combine_user_info = pd.concat(dfs, ignore_index=True)\n",
    "\n",
    "# Print the first few rows of the combined DataFrame\n",
    "print(combine_user_info.head())\n",
    "\n",
    "# Optionally, you can save the combined DataFrame to a CSV file\n",
    "combine_user_info.to_csv('combined_streaming_history.csv', index=False)"
   ]
  },
  {
   "cell_type": "markdown",
   "id": "1b0270ea",
   "metadata": {},
   "source": [
    "## Check information on genres and dataset before merging"
   ]
  },
  {
   "cell_type": "code",
   "execution_count": 16,
   "id": "4f99c2c8",
   "metadata": {},
   "outputs": [
    {
     "name": "stdout",
     "output_type": "stream",
     "text": [
      "Columns in data_df: Index(['Unnamed: 0', 'track_id', 'artists', 'album_name', 'track_name',\n",
      "       'popularity', 'duration_ms', 'explicit', 'danceability', 'energy',\n",
      "       'key', 'loudness', 'mode', 'speechiness', 'acousticness',\n",
      "       'instrumentalness', 'liveness', 'valence', 'tempo', 'time_signature',\n",
      "       'track_genre'],\n",
      "      dtype='object')\n",
      "Columns in genres_df: Index(['danceability', 'energy', 'key', 'loudness', 'mode', 'speechiness',\n",
      "       'acousticness', 'instrumentalness', 'liveness', 'valence', 'tempo',\n",
      "       'type', 'id', 'uri', 'track_href', 'analysis_url', 'duration_ms',\n",
      "       'time_signature', 'genre', 'song_name', 'Unnamed: 0', 'title'],\n",
      "      dtype='object')\n",
      "Data types in data_df: Unnamed: 0            int64\n",
      "track_id             object\n",
      "artists              object\n",
      "album_name           object\n",
      "track_name           object\n",
      "popularity            int64\n",
      "duration_ms           int64\n",
      "explicit               bool\n",
      "danceability        float64\n",
      "energy              float64\n",
      "key                   int64\n",
      "loudness            float64\n",
      "mode                  int64\n",
      "speechiness         float64\n",
      "acousticness        float64\n",
      "instrumentalness    float64\n",
      "liveness            float64\n",
      "valence             float64\n",
      "tempo               float64\n",
      "time_signature        int64\n",
      "track_genre          object\n",
      "dtype: object\n",
      "Data types in genres_df: danceability        float64\n",
      "energy              float64\n",
      "key                   int64\n",
      "loudness            float64\n",
      "mode                  int64\n",
      "speechiness         float64\n",
      "acousticness        float64\n",
      "instrumentalness    float64\n",
      "liveness            float64\n",
      "valence             float64\n",
      "tempo               float64\n",
      "type                 object\n",
      "id                   object\n",
      "uri                  object\n",
      "track_href           object\n",
      "analysis_url         object\n",
      "duration_ms           int64\n",
      "time_signature        int64\n",
      "genre                object\n",
      "song_name            object\n",
      "Unnamed: 0          float64\n",
      "title                object\n",
      "dtype: object\n"
     ]
    }
   ],
   "source": [
    "data_df = pd.DataFrame(dataset)\n",
    "genres_df = pd.DataFrame(genres)\n",
    "# Check column names in data_df and genres_df\n",
    "print(\"Columns in data_df:\", data_df.columns)\n",
    "print(\"Columns in genres_df:\", genres_df.columns)\n",
    "\n",
    "# Check data types of the merging columns\n",
    "print(\"Data types in data_df:\", data_df.dtypes)\n",
    "print(\"Data types in genres_df:\", genres_df.dtypes)\n",
    "# merged_genres_data = pd.merge(data_df, genres_df, on=[\"danceability\", \"energy\", \"key\", \"loudness\", \"mode\", \"speechiness\", \n",
    "                                                             # \"acousticness\", \"instrumentalness\", \"liveness\", \"valence\", \n",
    "                                                            # \"tempo\", \"duration_ms\", \"time_signature\"])\n"
   ]
  },
  {
   "cell_type": "markdown",
   "id": "09cb60d6",
   "metadata": {},
   "source": [
    "## Merge genres and dataset dfs "
   ]
  },
  {
   "cell_type": "code",
   "execution_count": 19,
   "id": "a8140120",
   "metadata": {},
   "outputs": [
    {
     "name": "stdout",
     "output_type": "stream",
     "text": [
      "Unnamed: 0_x          int64\n",
      "track_id             object\n",
      "artists              object\n",
      "album_name           object\n",
      "track_name           object\n",
      "popularity            int64\n",
      "duration_ms           int64\n",
      "explicit               bool\n",
      "danceability        float64\n",
      "energy              float64\n",
      "key                   int64\n",
      "loudness            float64\n",
      "mode                  int64\n",
      "speechiness         float64\n",
      "acousticness        float64\n",
      "instrumentalness    float64\n",
      "liveness            float64\n",
      "valence             float64\n",
      "tempo               float64\n",
      "time_signature        int64\n",
      "track_genre          object\n",
      "type                 object\n",
      "id                   object\n",
      "uri                  object\n",
      "track_href           object\n",
      "analysis_url         object\n",
      "genre                object\n",
      "song_name            object\n",
      "Unnamed: 0_y        float64\n",
      "title                object\n",
      "dtype: object\n"
     ]
    }
   ],
   "source": [
    "merged_genres_dataset = pd.merge(data_df, genres_df, on=['danceability', 'energy', 'key', 'loudness', 'mode', 'speechiness',\n",
    "                                             'acousticness', 'instrumentalness', 'liveness', 'valence', \n",
    "                                             'tempo', 'duration_ms', 'time_signature'])\n",
    "print(merged_genres_dataset.dtypes)"
   ]
  },
  {
   "cell_type": "markdown",
   "id": "790511d5",
   "metadata": {},
   "source": [
    "## Create Column to see if a user liked the song or not "
   ]
  },
  {
   "cell_type": "code",
   "execution_count": 20,
   "id": "5b47d6ea",
   "metadata": {},
   "outputs": [],
   "source": [
    "combine_user_info['liked_or_not'] = (combine_user_info['msPlayed'] > 1000).astype(int)\n",
    "# Display the modified DataFrame\n",
    "# print(combine_user_info)"
   ]
  },
  {
   "cell_type": "markdown",
   "id": "12d3a31f",
   "metadata": {},
   "source": [
    "## Start creating a Naive Bayes Model "
   ]
  },
  {
   "cell_type": "markdown",
   "id": "4552d388",
   "metadata": {},
   "source": [
    "## Preprocessing  "
   ]
  },
  {
   "cell_type": "code",
   "execution_count": 22,
   "id": "4f6b52b3",
   "metadata": {},
   "outputs": [],
   "source": [
    "combine_user_info.rename(columns={'trackName': 'song_name'}, inplace=True)\n",
    "combine_user_info.rename(columns={'artistName': 'artists'}, inplace=True)"
   ]
  },
  {
   "cell_type": "markdown",
   "id": "8830b5ab",
   "metadata": {},
   "source": [
    "## Fix data up"
   ]
  },
  {
   "cell_type": "code",
   "execution_count": 23,
   "id": "8ae4a433",
   "metadata": {},
   "outputs": [],
   "source": [
    "merged_data = pd.merge(combine_user_info, merged_genres_dataset, on=[\"song_name\", \"artists\"])\n",
    "\n",
    "# Step 2: Feature Selection\n",
    "X = merged_data[['danceability', 'energy', 'key', 'loudness', 'mode', 'speechiness',\n",
    "                 'acousticness', 'instrumentalness', 'liveness', 'valence', 'tempo', 'duration_ms', 'time_signature']]\n",
    "y = merged_data['liked_or_not']"
   ]
  },
  {
   "cell_type": "markdown",
   "id": "d77e32e1",
   "metadata": {},
   "source": [
    "## Split data "
   ]
  },
  {
   "cell_type": "code",
   "execution_count": 27,
   "id": "92711879",
   "metadata": {},
   "outputs": [
    {
     "name": "stdout",
     "output_type": "stream",
     "text": [
      "Number of rows in merged_data: 182\n",
      "Length of X_train: 145\n",
      "Length of X_test: 37\n",
      "Length of y_train: 145\n",
      "Length of y_test: 37\n"
     ]
    }
   ],
   "source": [
    "X_train, X_test, y_train, y_test = train_test_split(X, y, test_size=0.2, random_state=42)\n",
    "print(\"Number of rows in merged_data:\", len(merged_data))\n",
    "\n",
    "# Check the unique values in the merging columns to see if they match\n",
    "# print(\"Unique values in song_name column:\", merged_data['song_name'].unique())\n",
    "# print(\"Unique values in artists column:\", merged_data['artists'].unique())\n",
    "print(\"Length of X_train:\", len(X_train))\n",
    "print(\"Length of X_test:\", len(X_test))\n",
    "print(\"Length of y_train:\", len(y_train))\n",
    "print(\"Length of y_test:\", len(y_test))"
   ]
  },
  {
   "cell_type": "markdown",
   "id": "bfd29352",
   "metadata": {},
   "source": [
    "## Train Model + Make Prediction"
   ]
  },
  {
   "cell_type": "code",
   "execution_count": 30,
   "id": "89afea52",
   "metadata": {},
   "outputs": [
    {
     "name": "stdout",
     "output_type": "stream",
     "text": [
      "Length of y_pred: 37\n",
      "X_test shape: (37, 13)\n",
      "y_test shape: (37,)\n",
      "y_pred shape: (37,)\n"
     ]
    }
   ],
   "source": [
    "model = GaussianNB()\n",
    "model.fit(X_train, y_train)\n",
    "\n",
    "# Step 6: Predict Liked Songs\n",
    "y_pred = model.predict(X_test)\n",
    "print(\"Length of y_pred:\", len(y_pred))\n",
    "\n",
    "print(\"X_test shape:\", X_test.shape)\n",
    "print(\"y_test shape:\", y_test.shape)\n",
    "print(\"y_pred shape:\", y_pred.shape)"
   ]
  },
  {
   "cell_type": "markdown",
   "id": "5f0f2d2a",
   "metadata": {},
   "source": [
    "## Recommend Songs"
   ]
  },
  {
   "cell_type": "code",
   "execution_count": 32,
   "id": "00d25601",
   "metadata": {},
   "outputs": [
    {
     "ename": "IndexError",
     "evalue": "Boolean index has wrong length: 37 instead of 182",
     "output_type": "error",
     "traceback": [
      "\u001b[0;31m---------------------------------------------------------------------------\u001b[0m",
      "\u001b[0;31mIndexError\u001b[0m                                Traceback (most recent call last)",
      "\u001b[0;32m/var/folders/97/btz5n6xn02dbhsts19bvb8xr0000gn/T/ipykernel_25984/4065090559.py\u001b[0m in \u001b[0;36m<module>\u001b[0;34m\u001b[0m\n\u001b[1;32m      1\u001b[0m \u001b[0;31m# Step 7: Recommendation\u001b[0m\u001b[0;34m\u001b[0m\u001b[0;34m\u001b[0m\u001b[0m\n\u001b[1;32m      2\u001b[0m \u001b[0;31m# Assuming recommendation based on songs predicted as liked (y_pred == 1)\u001b[0m\u001b[0;34m\u001b[0m\u001b[0;34m\u001b[0m\u001b[0m\n\u001b[0;32m----> 3\u001b[0;31m \u001b[0mrecommended_songs\u001b[0m \u001b[0;34m=\u001b[0m \u001b[0mmerged_data\u001b[0m\u001b[0;34m.\u001b[0m\u001b[0mloc\u001b[0m\u001b[0;34m[\u001b[0m\u001b[0my_pred\u001b[0m \u001b[0;34m==\u001b[0m \u001b[0;36m1\u001b[0m\u001b[0;34m,\u001b[0m \u001b[0;34m[\u001b[0m\u001b[0;34m'song_name'\u001b[0m\u001b[0;34m,\u001b[0m \u001b[0;34m'artists'\u001b[0m\u001b[0;34m]\u001b[0m\u001b[0;34m]\u001b[0m\u001b[0;34m\u001b[0m\u001b[0;34m\u001b[0m\u001b[0m\n\u001b[0m\u001b[1;32m      4\u001b[0m \u001b[0;31m# print(\"Length of y_pred:\", len(y_pred))\u001b[0m\u001b[0;34m\u001b[0m\u001b[0;34m\u001b[0m\u001b[0m\n\u001b[1;32m      5\u001b[0m \u001b[0;31m# print(\"Length of merged_data:\", len(merged_data))\u001b[0m\u001b[0;34m\u001b[0m\u001b[0;34m\u001b[0m\u001b[0m\n",
      "\u001b[0;32m~/opt/anaconda3/lib/python3.9/site-packages/pandas/core/indexing.py\u001b[0m in \u001b[0;36m__getitem__\u001b[0;34m(self, key)\u001b[0m\n\u001b[1;32m    959\u001b[0m             \u001b[0;32mif\u001b[0m \u001b[0mself\u001b[0m\u001b[0;34m.\u001b[0m\u001b[0m_is_scalar_access\u001b[0m\u001b[0;34m(\u001b[0m\u001b[0mkey\u001b[0m\u001b[0;34m)\u001b[0m\u001b[0;34m:\u001b[0m\u001b[0;34m\u001b[0m\u001b[0;34m\u001b[0m\u001b[0m\n\u001b[1;32m    960\u001b[0m                 \u001b[0;32mreturn\u001b[0m \u001b[0mself\u001b[0m\u001b[0;34m.\u001b[0m\u001b[0mobj\u001b[0m\u001b[0;34m.\u001b[0m\u001b[0m_get_value\u001b[0m\u001b[0;34m(\u001b[0m\u001b[0;34m*\u001b[0m\u001b[0mkey\u001b[0m\u001b[0;34m,\u001b[0m \u001b[0mtakeable\u001b[0m\u001b[0;34m=\u001b[0m\u001b[0mself\u001b[0m\u001b[0;34m.\u001b[0m\u001b[0m_takeable\u001b[0m\u001b[0;34m)\u001b[0m\u001b[0;34m\u001b[0m\u001b[0;34m\u001b[0m\u001b[0m\n\u001b[0;32m--> 961\u001b[0;31m             \u001b[0;32mreturn\u001b[0m \u001b[0mself\u001b[0m\u001b[0;34m.\u001b[0m\u001b[0m_getitem_tuple\u001b[0m\u001b[0;34m(\u001b[0m\u001b[0mkey\u001b[0m\u001b[0;34m)\u001b[0m\u001b[0;34m\u001b[0m\u001b[0;34m\u001b[0m\u001b[0m\n\u001b[0m\u001b[1;32m    962\u001b[0m         \u001b[0;32melse\u001b[0m\u001b[0;34m:\u001b[0m\u001b[0;34m\u001b[0m\u001b[0;34m\u001b[0m\u001b[0m\n\u001b[1;32m    963\u001b[0m             \u001b[0;31m# we by definition only have the 0th axis\u001b[0m\u001b[0;34m\u001b[0m\u001b[0;34m\u001b[0m\u001b[0m\n",
      "\u001b[0;32m~/opt/anaconda3/lib/python3.9/site-packages/pandas/core/indexing.py\u001b[0m in \u001b[0;36m_getitem_tuple\u001b[0;34m(self, tup)\u001b[0m\n\u001b[1;32m   1147\u001b[0m             \u001b[0;32mreturn\u001b[0m \u001b[0mself\u001b[0m\u001b[0;34m.\u001b[0m\u001b[0m_multi_take\u001b[0m\u001b[0;34m(\u001b[0m\u001b[0mtup\u001b[0m\u001b[0;34m)\u001b[0m\u001b[0;34m\u001b[0m\u001b[0;34m\u001b[0m\u001b[0m\n\u001b[1;32m   1148\u001b[0m \u001b[0;34m\u001b[0m\u001b[0m\n\u001b[0;32m-> 1149\u001b[0;31m         \u001b[0;32mreturn\u001b[0m \u001b[0mself\u001b[0m\u001b[0;34m.\u001b[0m\u001b[0m_getitem_tuple_same_dim\u001b[0m\u001b[0;34m(\u001b[0m\u001b[0mtup\u001b[0m\u001b[0;34m)\u001b[0m\u001b[0;34m\u001b[0m\u001b[0;34m\u001b[0m\u001b[0m\n\u001b[0m\u001b[1;32m   1150\u001b[0m \u001b[0;34m\u001b[0m\u001b[0m\n\u001b[1;32m   1151\u001b[0m     \u001b[0;32mdef\u001b[0m \u001b[0m_get_label\u001b[0m\u001b[0;34m(\u001b[0m\u001b[0mself\u001b[0m\u001b[0;34m,\u001b[0m \u001b[0mlabel\u001b[0m\u001b[0;34m,\u001b[0m \u001b[0maxis\u001b[0m\u001b[0;34m:\u001b[0m \u001b[0mint\u001b[0m\u001b[0;34m)\u001b[0m\u001b[0;34m:\u001b[0m\u001b[0;34m\u001b[0m\u001b[0;34m\u001b[0m\u001b[0m\n",
      "\u001b[0;32m~/opt/anaconda3/lib/python3.9/site-packages/pandas/core/indexing.py\u001b[0m in \u001b[0;36m_getitem_tuple_same_dim\u001b[0;34m(self, tup)\u001b[0m\n\u001b[1;32m    825\u001b[0m                 \u001b[0;32mcontinue\u001b[0m\u001b[0;34m\u001b[0m\u001b[0;34m\u001b[0m\u001b[0m\n\u001b[1;32m    826\u001b[0m \u001b[0;34m\u001b[0m\u001b[0m\n\u001b[0;32m--> 827\u001b[0;31m             \u001b[0mretval\u001b[0m \u001b[0;34m=\u001b[0m \u001b[0mgetattr\u001b[0m\u001b[0;34m(\u001b[0m\u001b[0mretval\u001b[0m\u001b[0;34m,\u001b[0m \u001b[0mself\u001b[0m\u001b[0;34m.\u001b[0m\u001b[0mname\u001b[0m\u001b[0;34m)\u001b[0m\u001b[0;34m.\u001b[0m\u001b[0m_getitem_axis\u001b[0m\u001b[0;34m(\u001b[0m\u001b[0mkey\u001b[0m\u001b[0;34m,\u001b[0m \u001b[0maxis\u001b[0m\u001b[0;34m=\u001b[0m\u001b[0mi\u001b[0m\u001b[0;34m)\u001b[0m\u001b[0;34m\u001b[0m\u001b[0;34m\u001b[0m\u001b[0m\n\u001b[0m\u001b[1;32m    828\u001b[0m             \u001b[0;31m# We should never have retval.ndim < self.ndim, as that should\u001b[0m\u001b[0;34m\u001b[0m\u001b[0;34m\u001b[0m\u001b[0m\n\u001b[1;32m    829\u001b[0m             \u001b[0;31m#  be handled by the _getitem_lowerdim call above.\u001b[0m\u001b[0;34m\u001b[0m\u001b[0;34m\u001b[0m\u001b[0m\n",
      "\u001b[0;32m~/opt/anaconda3/lib/python3.9/site-packages/pandas/core/indexing.py\u001b[0m in \u001b[0;36m_getitem_axis\u001b[0;34m(self, key, axis)\u001b[0m\n\u001b[1;32m   1183\u001b[0m             \u001b[0;32mreturn\u001b[0m \u001b[0mself\u001b[0m\u001b[0;34m.\u001b[0m\u001b[0m_get_slice_axis\u001b[0m\u001b[0;34m(\u001b[0m\u001b[0mkey\u001b[0m\u001b[0;34m,\u001b[0m \u001b[0maxis\u001b[0m\u001b[0;34m=\u001b[0m\u001b[0maxis\u001b[0m\u001b[0;34m)\u001b[0m\u001b[0;34m\u001b[0m\u001b[0;34m\u001b[0m\u001b[0m\n\u001b[1;32m   1184\u001b[0m         \u001b[0;32melif\u001b[0m \u001b[0mcom\u001b[0m\u001b[0;34m.\u001b[0m\u001b[0mis_bool_indexer\u001b[0m\u001b[0;34m(\u001b[0m\u001b[0mkey\u001b[0m\u001b[0;34m)\u001b[0m\u001b[0;34m:\u001b[0m\u001b[0;34m\u001b[0m\u001b[0;34m\u001b[0m\u001b[0m\n\u001b[0;32m-> 1185\u001b[0;31m             \u001b[0;32mreturn\u001b[0m \u001b[0mself\u001b[0m\u001b[0;34m.\u001b[0m\u001b[0m_getbool_axis\u001b[0m\u001b[0;34m(\u001b[0m\u001b[0mkey\u001b[0m\u001b[0;34m,\u001b[0m \u001b[0maxis\u001b[0m\u001b[0;34m=\u001b[0m\u001b[0maxis\u001b[0m\u001b[0;34m)\u001b[0m\u001b[0;34m\u001b[0m\u001b[0;34m\u001b[0m\u001b[0m\n\u001b[0m\u001b[1;32m   1186\u001b[0m         \u001b[0;32melif\u001b[0m \u001b[0mis_list_like_indexer\u001b[0m\u001b[0;34m(\u001b[0m\u001b[0mkey\u001b[0m\u001b[0;34m)\u001b[0m\u001b[0;34m:\u001b[0m\u001b[0;34m\u001b[0m\u001b[0;34m\u001b[0m\u001b[0m\n\u001b[1;32m   1187\u001b[0m \u001b[0;34m\u001b[0m\u001b[0m\n",
      "\u001b[0;32m~/opt/anaconda3/lib/python3.9/site-packages/pandas/core/indexing.py\u001b[0m in \u001b[0;36m_getbool_axis\u001b[0;34m(self, key, axis)\u001b[0m\n\u001b[1;32m    982\u001b[0m         \u001b[0;31m# caller is responsible for ensuring non-None axis\u001b[0m\u001b[0;34m\u001b[0m\u001b[0;34m\u001b[0m\u001b[0m\n\u001b[1;32m    983\u001b[0m         \u001b[0mlabels\u001b[0m \u001b[0;34m=\u001b[0m \u001b[0mself\u001b[0m\u001b[0;34m.\u001b[0m\u001b[0mobj\u001b[0m\u001b[0;34m.\u001b[0m\u001b[0m_get_axis\u001b[0m\u001b[0;34m(\u001b[0m\u001b[0maxis\u001b[0m\u001b[0;34m)\u001b[0m\u001b[0;34m\u001b[0m\u001b[0;34m\u001b[0m\u001b[0m\n\u001b[0;32m--> 984\u001b[0;31m         \u001b[0mkey\u001b[0m \u001b[0;34m=\u001b[0m \u001b[0mcheck_bool_indexer\u001b[0m\u001b[0;34m(\u001b[0m\u001b[0mlabels\u001b[0m\u001b[0;34m,\u001b[0m \u001b[0mkey\u001b[0m\u001b[0;34m)\u001b[0m\u001b[0;34m\u001b[0m\u001b[0;34m\u001b[0m\u001b[0m\n\u001b[0m\u001b[1;32m    985\u001b[0m         \u001b[0minds\u001b[0m \u001b[0;34m=\u001b[0m \u001b[0mkey\u001b[0m\u001b[0;34m.\u001b[0m\u001b[0mnonzero\u001b[0m\u001b[0;34m(\u001b[0m\u001b[0;34m)\u001b[0m\u001b[0;34m[\u001b[0m\u001b[0;36m0\u001b[0m\u001b[0;34m]\u001b[0m\u001b[0;34m\u001b[0m\u001b[0;34m\u001b[0m\u001b[0m\n\u001b[1;32m    986\u001b[0m         \u001b[0;32mreturn\u001b[0m \u001b[0mself\u001b[0m\u001b[0;34m.\u001b[0m\u001b[0mobj\u001b[0m\u001b[0;34m.\u001b[0m\u001b[0m_take_with_is_copy\u001b[0m\u001b[0;34m(\u001b[0m\u001b[0minds\u001b[0m\u001b[0;34m,\u001b[0m \u001b[0maxis\u001b[0m\u001b[0;34m=\u001b[0m\u001b[0maxis\u001b[0m\u001b[0;34m)\u001b[0m\u001b[0;34m\u001b[0m\u001b[0;34m\u001b[0m\u001b[0m\n",
      "\u001b[0;32m~/opt/anaconda3/lib/python3.9/site-packages/pandas/core/indexing.py\u001b[0m in \u001b[0;36mcheck_bool_indexer\u001b[0;34m(index, key)\u001b[0m\n\u001b[1;32m   2399\u001b[0m         \u001b[0;31m# key may contain nan elements, check_array_indexer needs bool array\u001b[0m\u001b[0;34m\u001b[0m\u001b[0;34m\u001b[0m\u001b[0m\n\u001b[1;32m   2400\u001b[0m         \u001b[0mresult\u001b[0m \u001b[0;34m=\u001b[0m \u001b[0mpd_array\u001b[0m\u001b[0;34m(\u001b[0m\u001b[0mresult\u001b[0m\u001b[0;34m,\u001b[0m \u001b[0mdtype\u001b[0m\u001b[0;34m=\u001b[0m\u001b[0mbool\u001b[0m\u001b[0;34m)\u001b[0m\u001b[0;34m\u001b[0m\u001b[0;34m\u001b[0m\u001b[0m\n\u001b[0;32m-> 2401\u001b[0;31m     \u001b[0;32mreturn\u001b[0m \u001b[0mcheck_array_indexer\u001b[0m\u001b[0;34m(\u001b[0m\u001b[0mindex\u001b[0m\u001b[0;34m,\u001b[0m \u001b[0mresult\u001b[0m\u001b[0;34m)\u001b[0m\u001b[0;34m\u001b[0m\u001b[0;34m\u001b[0m\u001b[0m\n\u001b[0m\u001b[1;32m   2402\u001b[0m \u001b[0;34m\u001b[0m\u001b[0m\n\u001b[1;32m   2403\u001b[0m \u001b[0;34m\u001b[0m\u001b[0m\n",
      "\u001b[0;32m~/opt/anaconda3/lib/python3.9/site-packages/pandas/core/indexers/utils.py\u001b[0m in \u001b[0;36mcheck_array_indexer\u001b[0;34m(array, indexer)\u001b[0m\n\u001b[1;32m    577\u001b[0m         \u001b[0;31m# GH26658\u001b[0m\u001b[0;34m\u001b[0m\u001b[0;34m\u001b[0m\u001b[0m\n\u001b[1;32m    578\u001b[0m         \u001b[0;32mif\u001b[0m \u001b[0mlen\u001b[0m\u001b[0;34m(\u001b[0m\u001b[0mindexer\u001b[0m\u001b[0;34m)\u001b[0m \u001b[0;34m!=\u001b[0m \u001b[0mlen\u001b[0m\u001b[0;34m(\u001b[0m\u001b[0marray\u001b[0m\u001b[0;34m)\u001b[0m\u001b[0;34m:\u001b[0m\u001b[0;34m\u001b[0m\u001b[0;34m\u001b[0m\u001b[0m\n\u001b[0;32m--> 579\u001b[0;31m             raise IndexError(\n\u001b[0m\u001b[1;32m    580\u001b[0m                 \u001b[0;34mf\"Boolean index has wrong length: \"\u001b[0m\u001b[0;34m\u001b[0m\u001b[0;34m\u001b[0m\u001b[0m\n\u001b[1;32m    581\u001b[0m                 \u001b[0;34mf\"{len(indexer)} instead of {len(array)}\"\u001b[0m\u001b[0;34m\u001b[0m\u001b[0;34m\u001b[0m\u001b[0m\n",
      "\u001b[0;31mIndexError\u001b[0m: Boolean index has wrong length: 37 instead of 182"
     ]
    }
   ],
   "source": [
    "# Step 7: Recommendation\n",
    "# Assuming recommendation based on songs predicted as liked (y_pred == 1)\n",
    "recommended_songs = merged_data.loc[y_pred == 1, ['song_name', 'artists']]\n",
    "# print(\"Length of y_pred:\", len(y_pred))\n",
    "# print(\"Length of merged_data:\", len(merged_data))\n",
    "# Display recommended songs\n",
    "print(\"Recommended Songs:\")\n",
    "print(recommended_songs)"
   ]
  },
  {
   "cell_type": "code",
   "execution_count": null,
   "id": "e507a46f",
   "metadata": {},
   "outputs": [],
   "source": []
  }
 ],
 "metadata": {
  "kernelspec": {
   "display_name": "Python 3 (ipykernel)",
   "language": "python",
   "name": "python3"
  },
  "language_info": {
   "codemirror_mode": {
    "name": "ipython",
    "version": 3
   },
   "file_extension": ".py",
   "mimetype": "text/x-python",
   "name": "python",
   "nbconvert_exporter": "python",
   "pygments_lexer": "ipython3",
   "version": "3.9.13"
  }
 },
 "nbformat": 4,
 "nbformat_minor": 5
}

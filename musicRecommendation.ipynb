{
 "cells": [
  {
   "cell_type": "markdown",
   "id": "7c420288",
   "metadata": {},
   "source": [
    "## Import "
   ]
  },
  {
   "cell_type": "code",
   "execution_count": 2,
   "id": "299ed00b",
   "metadata": {},
   "outputs": [],
   "source": [
    "import json as jd \n",
    "import pandas as pd \n"
   ]
  },
  {
   "cell_type": "markdown",
   "id": "a576a576",
   "metadata": {},
   "source": [
    "## Open Spotify Files"
   ]
  },
  {
   "cell_type": "code",
   "execution_count": 4,
   "id": "38a26c45",
   "metadata": {},
   "outputs": [],
   "source": [
    "file1 = open('SpotifyAccount DataUserOne/StreamingHistory_music_0.json')\n",
    "file2 = open('SpotifyAccount DataUserOne/StreamingHistory_music_1.json')\n",
    "file3 = open('SpotifyAccount DataUserOne/StreamingHistory_music_2.json')"
   ]
  },
  {
   "cell_type": "code",
   "execution_count": null,
   "id": "6ae84e27",
   "metadata": {},
   "outputs": [],
   "source": []
  }
 ],
 "metadata": {
  "kernelspec": {
   "display_name": "Python 3 (ipykernel)",
   "language": "python",
   "name": "python3"
  },
  "language_info": {
   "codemirror_mode": {
    "name": "ipython",
    "version": 3
   },
   "file_extension": ".py",
   "mimetype": "text/x-python",
   "name": "python",
   "nbconvert_exporter": "python",
   "pygments_lexer": "ipython3",
   "version": "3.9.13"
  }
 },
 "nbformat": 4,
 "nbformat_minor": 5
}

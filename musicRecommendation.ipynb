{
 "cells": [
  {
   "cell_type": "markdown",
   "id": "7c420288",
   "metadata": {},
   "source": [
    "## Import "
   ]
  },
  {
   "cell_type": "code",
   "execution_count": 42,
   "id": "299ed00b",
   "metadata": {},
   "outputs": [],
   "source": [
    "import json \n",
    "import pandas as pd \n",
    "import seaborn as sns\n",
    "import numpy as np\n",
    "import matplotlib.pyplot as plt\n",
    "from sklearn.model_selection import train_test_split\n",
    "from sklearn.naive_bayes import GaussianNB\n",
    "from sklearn.metrics import accuracy_score\n",
    "from sklearn.neighbors import NearestNeighbors"
   ]
  },
  {
   "cell_type": "markdown",
   "id": "a576a576",
   "metadata": {},
   "source": [
    "## Open Spotify Files"
   ]
  },
  {
   "cell_type": "code",
   "execution_count": 2,
   "id": "38a26c45",
   "metadata": {},
   "outputs": [],
   "source": [
    "file1 = open('SpotifyAccount DataUserOne/StreamingHistory_music_0.json')\n",
    "file2 = open('SpotifyAccount DataUserOne/StreamingHistory_music_1.json')\n",
    "file3 = open('SpotifyAccount DataUserOne/StreamingHistory_music_2.json')"
   ]
  },
  {
   "cell_type": "markdown",
   "id": "d3ce2df0",
   "metadata": {},
   "source": [
    "## Get Most Streamed Song from File 1 "
   ]
  },
  {
   "cell_type": "code",
   "execution_count": 3,
   "id": "6ae84e27",
   "metadata": {
    "scrolled": true
   },
   "outputs": [
    {
     "name": "stdout",
     "output_type": "stream",
     "text": [
      "Most listened to song:\n",
      "Artist: Taylor Swift\n",
      "Track: happiness\n",
      "Milliseconds played: 1893848\n"
     ]
    }
   ],
   "source": [
    "## create summary statistics\n",
    "## song i listened to most, one least, aritst i heard the most, song i heard most recently\n",
    "\n",
    "## look at my data and data i might want to mix it with, so learn how to alogn/ merge these fields\n",
    "## go back to book chapter (alternating lee sqaures) take a big matrix \n",
    "## requires that i have access to simple python porgrams, it is a math package technique \n",
    "\n",
    "with open('SpotifyAccount DataUserOne/StreamingHistory_music_0.json', 'r') as file1:\n",
    "    # Load the JSON data\n",
    "    data1 = json.load(file1)\n",
    "\n",
    "# Initialize variables to keep track of the most listened to song\n",
    "most_listened_song = None\n",
    "max_ms_played = 0\n",
    "\n",
    "# Iterate through the songs\n",
    "for song in data1:\n",
    "    ms_played = song['msPlayed']\n",
    "    if ms_played > max_ms_played:\n",
    "        max_ms_played = ms_played\n",
    "        most_listened_song = song\n",
    "\n",
    "# Print the most listened to song\n",
    "if most_listened_song:\n",
    "    print(\"Most listened to song:\")\n",
    "    print(\"Artist:\", most_listened_song['artistName'])\n",
    "    print(\"Track:\", most_listened_song['trackName'])\n",
    "    print(\"Milliseconds played:\", most_listened_song['msPlayed'])\n",
    "else:\n",
    "    print(\"No songs found.\")"
   ]
  },
  {
   "cell_type": "markdown",
   "id": "f424a52f",
   "metadata": {},
   "source": [
    "## Get Most Streamed Song from File 2"
   ]
  },
  {
   "cell_type": "code",
   "execution_count": 4,
   "id": "3cfee69c",
   "metadata": {},
   "outputs": [
    {
     "name": "stdout",
     "output_type": "stream",
     "text": [
      "Most listened to song:\n",
      "Artist: Taylor Swift\n",
      "Track: Lover - Live From Paris\n",
      "Milliseconds played: 679653\n"
     ]
    }
   ],
   "source": [
    "with open('SpotifyAccount DataUserOne/StreamingHistory_music_1.json', 'r') as file1:\n",
    "    # Load the JSON data\n",
    "    data2 = json.load(file1)\n",
    "\n",
    "# Initialize variables to keep track of the most listened to song\n",
    "most_listened_song = None\n",
    "max_ms_played = 0\n",
    "\n",
    "# Iterate through the songs\n",
    "for song in data2:\n",
    "    ms_played = song['msPlayed']\n",
    "    if ms_played > max_ms_played:\n",
    "        max_ms_played = ms_played\n",
    "        most_listened_song = song\n",
    "\n",
    "# Print the most listened to song\n",
    "if most_listened_song:\n",
    "    print(\"Most listened to song:\")\n",
    "    print(\"Artist:\", most_listened_song['artistName'])\n",
    "    print(\"Track:\", most_listened_song['trackName'])\n",
    "    print(\"Milliseconds played:\", most_listened_song['msPlayed'])\n",
    "else:\n",
    "    print(\"No songs found.\")"
   ]
  },
  {
   "cell_type": "code",
   "execution_count": 5,
   "id": "6e449cf0",
   "metadata": {},
   "outputs": [],
   "source": [
    "## Get Most Streamed Song from File 2 "
   ]
  },
  {
   "cell_type": "code",
   "execution_count": 6,
   "id": "02e2856b",
   "metadata": {},
   "outputs": [
    {
     "name": "stdout",
     "output_type": "stream",
     "text": [
      "Most listened to song:\n",
      "Artist: Minnz Piano\n",
      "Track: Everything Has Changed (Extended Wedding Version)\n",
      "Milliseconds played: 760058\n"
     ]
    }
   ],
   "source": [
    "with open('SpotifyAccount DataUserOne/StreamingHistory_music_2.json', 'r') as file1:\n",
    "    # Load the JSON data\n",
    "    data3 = json.load(file1)\n",
    "\n",
    "# Initialize variables to keep track of the most listened to song\n",
    "most_listened_song = None\n",
    "max_ms_played = 0\n",
    "\n",
    "# Iterate through the songs\n",
    "for song in data3:\n",
    "    ms_played = song['msPlayed']\n",
    "    if ms_played > max_ms_played:\n",
    "        max_ms_played = ms_played\n",
    "        most_listened_song = song\n",
    "\n",
    "# Print the most listened to song\n",
    "if most_listened_song:\n",
    "    print(\"Most listened to song:\")\n",
    "    print(\"Artist:\", most_listened_song['artistName'])\n",
    "    print(\"Track:\", most_listened_song['trackName'])\n",
    "    print(\"Milliseconds played:\", most_listened_song['msPlayed'])\n",
    "else:\n",
    "    print(\"No songs found.\")"
   ]
  },
  {
   "cell_type": "markdown",
   "id": "753f688e",
   "metadata": {},
   "source": [
    "## Get Information for Most Streamed Song "
   ]
  },
  {
   "cell_type": "code",
   "execution_count": 7,
   "id": "002d19d6",
   "metadata": {},
   "outputs": [
    {
     "name": "stdout",
     "output_type": "stream",
     "text": [
      "Most listened to artist: Taylor Swift\n",
      "Most listened to song: happiness\n"
     ]
    }
   ],
   "source": [
    "# Initialize variables to keep track of the most listened to artist and song\n",
    "most_listened_artist = None\n",
    "most_listened_song = None\n",
    "max_ms_played = 0\n",
    "def process_file(file):\n",
    "    data = json.load(file)\n",
    "    return data\n",
    "\n",
    "# Initialize variables to keep track of the most listened to artist and song\n",
    "most_listened_artist = None\n",
    "most_listened_song = None\n",
    "max_ms_played = 0\n",
    "\n",
    "# Process each file\n",
    "current = 0\n",
    "for file in [file1, file2, file3]:\n",
    "    with open('SpotifyAccount DataUserOne/StreamingHistory_music_'+ str(current)+ '.json', 'r') as file:\n",
    "        data = process_file(file)\n",
    "        current += 1\n",
    "\n",
    "    # Iterate through the songs in this file\n",
    "    for song in data:\n",
    "        ms_played = song['msPlayed']\n",
    "        if ms_played > max_ms_played:\n",
    "            max_ms_played = ms_played\n",
    "            most_listened_artist = song['artistName']\n",
    "            most_listened_song = song['trackName']\n",
    "\n",
    "# Print the most listened to artist and song\n",
    "if most_listened_artist and most_listened_song:\n",
    "    print(\"Most listened to artist:\", most_listened_artist)\n",
    "    print(\"Most listened to song:\", most_listened_song)\n",
    "else:\n",
    "    print(\"No data found.\")\n"
   ]
  },
  {
   "cell_type": "markdown",
   "id": "12262844",
   "metadata": {},
   "source": [
    "## Get Information for Least Streamed Song"
   ]
  },
  {
   "cell_type": "code",
   "execution_count": 8,
   "id": "33b8d7e2",
   "metadata": {
    "scrolled": true
   },
   "outputs": [
    {
     "name": "stdout",
     "output_type": "stream",
     "text": [
      "Least listened to artist: Miley Cyrus\n",
      "Least listened to song: Flowers\n",
      "Ms heard: 0\n"
     ]
    }
   ],
   "source": [
    "def process_file(file):\n",
    "    data = json.load(file)\n",
    "    return data\n",
    "\n",
    "# Initialize variables to keep track of the most listened to artist and song\n",
    "least_listened_artist = None\n",
    "least_listened_song = None\n",
    "min_ms_played = float('inf')\n",
    "\n",
    "# Process each file\n",
    "current = 0\n",
    "for file in [file1, file2, file3]:\n",
    "    with open('SpotifyAccount DataUserOne/StreamingHistory_music_'+ str(current)+ '.json', 'r') as file:\n",
    "        data = process_file(file)\n",
    "        current += 1\n",
    "\n",
    "    # Iterate through the songs in this file\n",
    "    for song in data:\n",
    "        ms_played = song['msPlayed']\n",
    "        if ms_played < min_ms_played:\n",
    "            min_ms_played = ms_played\n",
    "            least_listened_artist = song['artistName']\n",
    "            least_listened_song = song['trackName']\n",
    "\n",
    "# Print the most listened to artist and song\n",
    "if least_listened_artist and least_listened_song:\n",
    "    print(\"Least listened to artist:\", least_listened_artist)\n",
    "    print(\"Least listened to song:\", least_listened_song)\n",
    "    print(\"Ms heard:\", min_ms_played)\n",
    "else:\n",
    "    print(\"No data found.\")"
   ]
  },
  {
   "cell_type": "markdown",
   "id": "56fa7d5f",
   "metadata": {},
   "source": [
    "## Do some calculations "
   ]
  },
  {
   "cell_type": "code",
   "execution_count": 9,
   "id": "b2fd2815",
   "metadata": {
    "scrolled": true
   },
   "outputs": [
    {
     "name": "stdout",
     "output_type": "stream",
     "text": [
      "Total time listened to Taylor Swift: 1000071593 miliseconds\n",
      "  That is : 16667 minutes\n",
      "  Or :  277 hours\n",
      "  Equivalent to : 11 days!\n"
     ]
    }
   ],
   "source": [
    "total_ms = 0\n",
    "current = 0\n",
    "def milliseconds_to_minutes(milliseconds):\n",
    "    return milliseconds / 60000\n",
    "\n",
    "# Function to convert milliseconds to hours\n",
    "def milliseconds_to_hours(milliseconds):\n",
    "    return milliseconds / 3600000\n",
    "\n",
    "def hours_to_days(hours):\n",
    "    return hours / 24\n",
    "\n",
    "for file in [file1, file2, file3]:\n",
    "    with open('SpotifyAccount DataUserOne/StreamingHistory_music_'+ str(current)+ '.json', 'r') as file:\n",
    "        data = process_file(file)\n",
    "        current += 1\n",
    "\n",
    "    # Iterate through the songs in this file\n",
    "    for song in data:\n",
    "        ms_played = song['msPlayed']\n",
    "        if song['artistName'] == most_listened_artist:\n",
    "            total_ms += song['msPlayed']\n",
    "            \n",
    "total_minutes = milliseconds_to_minutes(total_ms)\n",
    "total_hours = milliseconds_to_hours(total_ms)\n",
    "total_days = hours_to_days(total_hours)\n",
    "\n",
    "print(\"Total time listened to\", most_listened_artist + \":\", int(total_ms), \"miliseconds\")\n",
    "print(\"  That is :\", int(total_minutes), \"minutes\")\n",
    "print(\"  Or : \", int(total_hours), \"hours\")\n",
    "print(\"  Equivalent to :\", int(total_days), \"days!\")"
   ]
  },
  {
   "cell_type": "markdown",
   "id": "22242285",
   "metadata": {},
   "source": [
    "## Read in a Music Data Set "
   ]
  },
  {
   "cell_type": "code",
   "execution_count": 10,
   "id": "48be69c0",
   "metadata": {},
   "outputs": [],
   "source": [
    "## need metadata that will provide additional high level info or have people that listen similar to me \n",
    "## use wikemedia "
   ]
  },
  {
   "cell_type": "code",
   "execution_count": 11,
   "id": "8a3175f2",
   "metadata": {
    "scrolled": true
   },
   "outputs": [],
   "source": [
    "dataset = pd.read_csv(\"dataset.csv\")\n",
    "genres = pd.read_csv(\"genres_v2.csv\", dtype={'song_name': 'str'})  # Replace 'column_19' with the actual name of the column\n",
    "genres = pd.read_csv(\"genres_v2.csv\", low_memory=False)\n",
    "playlists = pd.read_csv(\"playlists.csv\")"
   ]
  },
  {
   "cell_type": "code",
   "execution_count": 12,
   "id": "b8732787",
   "metadata": {},
   "outputs": [
    {
     "name": "stdout",
     "output_type": "stream",
     "text": [
      "<class 'pandas.core.frame.DataFrame'>\n",
      "RangeIndex: 114000 entries, 0 to 113999\n",
      "Data columns (total 21 columns):\n",
      " #   Column            Non-Null Count   Dtype  \n",
      "---  ------            --------------   -----  \n",
      " 0   Unnamed: 0        114000 non-null  int64  \n",
      " 1   track_id          114000 non-null  object \n",
      " 2   artists           113999 non-null  object \n",
      " 3   album_name        113999 non-null  object \n",
      " 4   track_name        113999 non-null  object \n",
      " 5   popularity        114000 non-null  int64  \n",
      " 6   duration_ms       114000 non-null  int64  \n",
      " 7   explicit          114000 non-null  bool   \n",
      " 8   danceability      114000 non-null  float64\n",
      " 9   energy            114000 non-null  float64\n",
      " 10  key               114000 non-null  int64  \n",
      " 11  loudness          114000 non-null  float64\n",
      " 12  mode              114000 non-null  int64  \n",
      " 13  speechiness       114000 non-null  float64\n",
      " 14  acousticness      114000 non-null  float64\n",
      " 15  instrumentalness  114000 non-null  float64\n",
      " 16  liveness          114000 non-null  float64\n",
      " 17  valence           114000 non-null  float64\n",
      " 18  tempo             114000 non-null  float64\n",
      " 19  time_signature    114000 non-null  int64  \n",
      " 20  track_genre       114000 non-null  object \n",
      "dtypes: bool(1), float64(9), int64(6), object(5)\n",
      "memory usage: 17.5+ MB\n",
      "None\n"
     ]
    }
   ],
   "source": [
    "print(dataset.info())"
   ]
  },
  {
   "cell_type": "code",
   "execution_count": 13,
   "id": "4b433eb6",
   "metadata": {},
   "outputs": [
    {
     "name": "stdout",
     "output_type": "stream",
     "text": [
      "<class 'pandas.core.frame.DataFrame'>\n",
      "RangeIndex: 42305 entries, 0 to 42304\n",
      "Data columns (total 22 columns):\n",
      " #   Column            Non-Null Count  Dtype  \n",
      "---  ------            --------------  -----  \n",
      " 0   danceability      42305 non-null  float64\n",
      " 1   energy            42305 non-null  float64\n",
      " 2   key               42305 non-null  int64  \n",
      " 3   loudness          42305 non-null  float64\n",
      " 4   mode              42305 non-null  int64  \n",
      " 5   speechiness       42305 non-null  float64\n",
      " 6   acousticness      42305 non-null  float64\n",
      " 7   instrumentalness  42305 non-null  float64\n",
      " 8   liveness          42305 non-null  float64\n",
      " 9   valence           42305 non-null  float64\n",
      " 10  tempo             42305 non-null  float64\n",
      " 11  type              42305 non-null  object \n",
      " 12  id                42305 non-null  object \n",
      " 13  uri               42305 non-null  object \n",
      " 14  track_href        42305 non-null  object \n",
      " 15  analysis_url      42305 non-null  object \n",
      " 16  duration_ms       42305 non-null  int64  \n",
      " 17  time_signature    42305 non-null  int64  \n",
      " 18  genre             42305 non-null  object \n",
      " 19  song_name         21519 non-null  object \n",
      " 20  Unnamed: 0        20780 non-null  float64\n",
      " 21  title             20780 non-null  object \n",
      "dtypes: float64(10), int64(4), object(8)\n",
      "memory usage: 7.1+ MB\n",
      "None\n"
     ]
    }
   ],
   "source": [
    "print(genres.info())"
   ]
  },
  {
   "cell_type": "code",
   "execution_count": 14,
   "id": "93fcea9c",
   "metadata": {},
   "outputs": [],
   "source": [
    "# print(playlists.info())"
   ]
  },
  {
   "cell_type": "markdown",
   "id": "67ddf7d1",
   "metadata": {},
   "source": [
    "## Merge user data info a single dataframe "
   ]
  },
  {
   "cell_type": "code",
   "execution_count": 17,
   "id": "eaa5da9d",
   "metadata": {},
   "outputs": [
    {
     "name": "stdout",
     "output_type": "stream",
     "text": [
      "            endTime      artistName               trackName  msPlayed\n",
      "0  2023-03-05 22:40     Cheat Codes              Bets On Us    178945\n",
      "1  2023-03-06 02:12          ODESZA                   Falls      1280\n",
      "2  2023-03-06 02:13  Unknown Artist           Unknown Track     10776\n",
      "3  2023-03-06 02:17    Gin Blossoms  Follow You Down - Edit    134708\n",
      "4  2023-03-06 12:44            TIMØ   Conquistar El Planeta    162800\n",
      "rows available:  28276\n"
     ]
    }
   ],
   "source": [
    "file_paths = ['SpotifyAccount DataUserOne/StreamingHistory_music_0.json',\n",
    "              'SpotifyAccount DataUserOne/StreamingHistory_music_1.json',\n",
    "              'SpotifyAccount DataUserOne/StreamingHistory_music_2.json']\n",
    "\n",
    "dfs = []\n",
    "for file_path in file_paths:\n",
    "    with open(file_path) as f:\n",
    "        combine_user_info = json.load(f)\n",
    "        dfs.append(pd.DataFrame(combine_user_info))\n",
    "\n",
    "# Concatenate all DataFrames into one\n",
    "combine_user_info = pd.concat(dfs, ignore_index=True)\n",
    "\n",
    "# Print the first few rows of the combined DataFrame\n",
    "print(combine_user_info.head())\n",
    "\n",
    "# Optionally, you can save the combined DataFrame to a CSV file\n",
    "combine_user_info.to_csv('combined_streaming_history.csv', index=False)\n",
    "print(\"rows available: \", len(combine_user_info))"
   ]
  },
  {
   "cell_type": "markdown",
   "id": "1b0270ea",
   "metadata": {},
   "source": [
    "## Check information on genres and dataset before merging"
   ]
  },
  {
   "cell_type": "code",
   "execution_count": 18,
   "id": "4f99c2c8",
   "metadata": {},
   "outputs": [
    {
     "name": "stdout",
     "output_type": "stream",
     "text": [
      "Columns in data_df: Index(['Unnamed: 0', 'track_id', 'artists', 'album_name', 'track_name',\n",
      "       'popularity', 'duration_ms', 'explicit', 'danceability', 'energy',\n",
      "       'key', 'loudness', 'mode', 'speechiness', 'acousticness',\n",
      "       'instrumentalness', 'liveness', 'valence', 'tempo', 'time_signature',\n",
      "       'track_genre'],\n",
      "      dtype='object')\n",
      "Columns in genres_df: Index(['danceability', 'energy', 'key', 'loudness', 'mode', 'speechiness',\n",
      "       'acousticness', 'instrumentalness', 'liveness', 'valence', 'tempo',\n",
      "       'type', 'id', 'uri', 'track_href', 'analysis_url', 'duration_ms',\n",
      "       'time_signature', 'genre', 'song_name', 'Unnamed: 0', 'title'],\n",
      "      dtype='object')\n",
      "Data types in data_df: Unnamed: 0            int64\n",
      "track_id             object\n",
      "artists              object\n",
      "album_name           object\n",
      "track_name           object\n",
      "popularity            int64\n",
      "duration_ms           int64\n",
      "explicit               bool\n",
      "danceability        float64\n",
      "energy              float64\n",
      "key                   int64\n",
      "loudness            float64\n",
      "mode                  int64\n",
      "speechiness         float64\n",
      "acousticness        float64\n",
      "instrumentalness    float64\n",
      "liveness            float64\n",
      "valence             float64\n",
      "tempo               float64\n",
      "time_signature        int64\n",
      "track_genre          object\n",
      "dtype: object\n",
      "Data types in genres_df: danceability        float64\n",
      "energy              float64\n",
      "key                   int64\n",
      "loudness            float64\n",
      "mode                  int64\n",
      "speechiness         float64\n",
      "acousticness        float64\n",
      "instrumentalness    float64\n",
      "liveness            float64\n",
      "valence             float64\n",
      "tempo               float64\n",
      "type                 object\n",
      "id                   object\n",
      "uri                  object\n",
      "track_href           object\n",
      "analysis_url         object\n",
      "duration_ms           int64\n",
      "time_signature        int64\n",
      "genre                object\n",
      "song_name            object\n",
      "Unnamed: 0          float64\n",
      "title                object\n",
      "dtype: object\n"
     ]
    }
   ],
   "source": [
    "data_df = pd.DataFrame(dataset)\n",
    "genres_df = pd.DataFrame(genres)\n",
    "# Check column names in data_df and genres_df\n",
    "print(\"Columns in data_df:\", data_df.columns)\n",
    "print(\"Columns in genres_df:\", genres_df.columns)\n",
    "\n",
    "# Check data types of the merging columns\n",
    "print(\"Data types in data_df:\", data_df.dtypes)\n",
    "print(\"Data types in genres_df:\", genres_df.dtypes)\n"
   ]
  },
  {
   "cell_type": "code",
   "execution_count": 19,
   "id": "a8140120",
   "metadata": {},
   "outputs": [
    {
     "data": {
      "text/html": [
       "<div>\n",
       "<style scoped>\n",
       "    .dataframe tbody tr th:only-of-type {\n",
       "        vertical-align: middle;\n",
       "    }\n",
       "\n",
       "    .dataframe tbody tr th {\n",
       "        vertical-align: top;\n",
       "    }\n",
       "\n",
       "    .dataframe thead th {\n",
       "        text-align: right;\n",
       "    }\n",
       "</style>\n",
       "<table border=\"1\" class=\"dataframe\">\n",
       "  <thead>\n",
       "    <tr style=\"text-align: right;\">\n",
       "      <th></th>\n",
       "      <th>track_id</th>\n",
       "      <th>artists</th>\n",
       "      <th>album_name</th>\n",
       "      <th>track_name</th>\n",
       "      <th>popularity</th>\n",
       "      <th>duration_ms</th>\n",
       "      <th>explicit</th>\n",
       "      <th>danceability</th>\n",
       "      <th>energy</th>\n",
       "      <th>key</th>\n",
       "      <th>...</th>\n",
       "      <th>tempo</th>\n",
       "      <th>time_signature</th>\n",
       "      <th>track_genre</th>\n",
       "      <th>type</th>\n",
       "      <th>id</th>\n",
       "      <th>uri</th>\n",
       "      <th>track_href</th>\n",
       "      <th>analysis_url</th>\n",
       "      <th>genre</th>\n",
       "      <th>song_name</th>\n",
       "    </tr>\n",
       "  </thead>\n",
       "  <tbody>\n",
       "    <tr>\n",
       "      <th>0</th>\n",
       "      <td>6Uy6K3KdmUdAfelUp0SeXn</td>\n",
       "      <td>Sara Bareilles</td>\n",
       "      <td>The Blessed Unrest</td>\n",
       "      <td>Brave</td>\n",
       "      <td>70</td>\n",
       "      <td>220573</td>\n",
       "      <td>False</td>\n",
       "      <td>0.551</td>\n",
       "      <td>0.836</td>\n",
       "      <td>10</td>\n",
       "      <td>...</td>\n",
       "      <td>185.063</td>\n",
       "      <td>4</td>\n",
       "      <td>acoustic</td>\n",
       "      <td>audio_features</td>\n",
       "      <td>6Uy6K3KdmUdAfelUp0SeXn</td>\n",
       "      <td>spotify:track:6Uy6K3KdmUdAfelUp0SeXn</td>\n",
       "      <td>https://api.spotify.com/v1/tracks/6Uy6K3KdmUdA...</td>\n",
       "      <td>https://api.spotify.com/v1/audio-analysis/6Uy6...</td>\n",
       "      <td>Pop</td>\n",
       "      <td>Brave</td>\n",
       "    </tr>\n",
       "    <tr>\n",
       "      <th>1</th>\n",
       "      <td>4CeeEOM32jQcH3eN9Q2dGj</td>\n",
       "      <td>Nirvana</td>\n",
       "      <td>Nevermind (Remastered)</td>\n",
       "      <td>Smells Like Teen Spirit</td>\n",
       "      <td>83</td>\n",
       "      <td>301920</td>\n",
       "      <td>False</td>\n",
       "      <td>0.502</td>\n",
       "      <td>0.912</td>\n",
       "      <td>1</td>\n",
       "      <td>...</td>\n",
       "      <td>116.761</td>\n",
       "      <td>4</td>\n",
       "      <td>alt-rock</td>\n",
       "      <td>audio_features</td>\n",
       "      <td>5ghIJDpPoe3CfHMGu71E6T</td>\n",
       "      <td>spotify:track:5ghIJDpPoe3CfHMGu71E6T</td>\n",
       "      <td>https://api.spotify.com/v1/tracks/5ghIJDpPoe3C...</td>\n",
       "      <td>https://api.spotify.com/v1/audio-analysis/5ghI...</td>\n",
       "      <td>Emo</td>\n",
       "      <td>Smells Like Teen Spirit</td>\n",
       "    </tr>\n",
       "    <tr>\n",
       "      <th>2</th>\n",
       "      <td>4CeeEOM32jQcH3eN9Q2dGj</td>\n",
       "      <td>Nirvana</td>\n",
       "      <td>Nevermind (Remastered)</td>\n",
       "      <td>Smells Like Teen Spirit</td>\n",
       "      <td>83</td>\n",
       "      <td>301920</td>\n",
       "      <td>False</td>\n",
       "      <td>0.502</td>\n",
       "      <td>0.912</td>\n",
       "      <td>1</td>\n",
       "      <td>...</td>\n",
       "      <td>116.761</td>\n",
       "      <td>4</td>\n",
       "      <td>alt-rock</td>\n",
       "      <td>audio_features</td>\n",
       "      <td>1f3yAtsJtY87CTmM8RLnxf</td>\n",
       "      <td>spotify:track:1f3yAtsJtY87CTmM8RLnxf</td>\n",
       "      <td>https://api.spotify.com/v1/tracks/1f3yAtsJtY87...</td>\n",
       "      <td>https://api.spotify.com/v1/audio-analysis/1f3y...</td>\n",
       "      <td>Emo</td>\n",
       "      <td>Smells Like Teen Spirit</td>\n",
       "    </tr>\n",
       "    <tr>\n",
       "      <th>3</th>\n",
       "      <td>4CeeEOM32jQcH3eN9Q2dGj</td>\n",
       "      <td>Nirvana</td>\n",
       "      <td>Nevermind (Remastered)</td>\n",
       "      <td>Smells Like Teen Spirit</td>\n",
       "      <td>83</td>\n",
       "      <td>301920</td>\n",
       "      <td>False</td>\n",
       "      <td>0.502</td>\n",
       "      <td>0.912</td>\n",
       "      <td>1</td>\n",
       "      <td>...</td>\n",
       "      <td>116.761</td>\n",
       "      <td>4</td>\n",
       "      <td>alternative</td>\n",
       "      <td>audio_features</td>\n",
       "      <td>5ghIJDpPoe3CfHMGu71E6T</td>\n",
       "      <td>spotify:track:5ghIJDpPoe3CfHMGu71E6T</td>\n",
       "      <td>https://api.spotify.com/v1/tracks/5ghIJDpPoe3C...</td>\n",
       "      <td>https://api.spotify.com/v1/audio-analysis/5ghI...</td>\n",
       "      <td>Emo</td>\n",
       "      <td>Smells Like Teen Spirit</td>\n",
       "    </tr>\n",
       "    <tr>\n",
       "      <th>4</th>\n",
       "      <td>4CeeEOM32jQcH3eN9Q2dGj</td>\n",
       "      <td>Nirvana</td>\n",
       "      <td>Nevermind (Remastered)</td>\n",
       "      <td>Smells Like Teen Spirit</td>\n",
       "      <td>83</td>\n",
       "      <td>301920</td>\n",
       "      <td>False</td>\n",
       "      <td>0.502</td>\n",
       "      <td>0.912</td>\n",
       "      <td>1</td>\n",
       "      <td>...</td>\n",
       "      <td>116.761</td>\n",
       "      <td>4</td>\n",
       "      <td>alternative</td>\n",
       "      <td>audio_features</td>\n",
       "      <td>1f3yAtsJtY87CTmM8RLnxf</td>\n",
       "      <td>spotify:track:1f3yAtsJtY87CTmM8RLnxf</td>\n",
       "      <td>https://api.spotify.com/v1/tracks/1f3yAtsJtY87...</td>\n",
       "      <td>https://api.spotify.com/v1/audio-analysis/1f3y...</td>\n",
       "      <td>Emo</td>\n",
       "      <td>Smells Like Teen Spirit</td>\n",
       "    </tr>\n",
       "  </tbody>\n",
       "</table>\n",
       "<p>5 rows × 27 columns</p>\n",
       "</div>"
      ],
      "text/plain": [
       "                 track_id         artists              album_name  \\\n",
       "0  6Uy6K3KdmUdAfelUp0SeXn  Sara Bareilles      The Blessed Unrest   \n",
       "1  4CeeEOM32jQcH3eN9Q2dGj         Nirvana  Nevermind (Remastered)   \n",
       "2  4CeeEOM32jQcH3eN9Q2dGj         Nirvana  Nevermind (Remastered)   \n",
       "3  4CeeEOM32jQcH3eN9Q2dGj         Nirvana  Nevermind (Remastered)   \n",
       "4  4CeeEOM32jQcH3eN9Q2dGj         Nirvana  Nevermind (Remastered)   \n",
       "\n",
       "                track_name  popularity  duration_ms  explicit  danceability  \\\n",
       "0                    Brave          70       220573     False         0.551   \n",
       "1  Smells Like Teen Spirit          83       301920     False         0.502   \n",
       "2  Smells Like Teen Spirit          83       301920     False         0.502   \n",
       "3  Smells Like Teen Spirit          83       301920     False         0.502   \n",
       "4  Smells Like Teen Spirit          83       301920     False         0.502   \n",
       "\n",
       "   energy  key  ...    tempo  time_signature  track_genre            type  \\\n",
       "0   0.836   10  ...  185.063               4     acoustic  audio_features   \n",
       "1   0.912    1  ...  116.761               4     alt-rock  audio_features   \n",
       "2   0.912    1  ...  116.761               4     alt-rock  audio_features   \n",
       "3   0.912    1  ...  116.761               4  alternative  audio_features   \n",
       "4   0.912    1  ...  116.761               4  alternative  audio_features   \n",
       "\n",
       "                       id                                   uri  \\\n",
       "0  6Uy6K3KdmUdAfelUp0SeXn  spotify:track:6Uy6K3KdmUdAfelUp0SeXn   \n",
       "1  5ghIJDpPoe3CfHMGu71E6T  spotify:track:5ghIJDpPoe3CfHMGu71E6T   \n",
       "2  1f3yAtsJtY87CTmM8RLnxf  spotify:track:1f3yAtsJtY87CTmM8RLnxf   \n",
       "3  5ghIJDpPoe3CfHMGu71E6T  spotify:track:5ghIJDpPoe3CfHMGu71E6T   \n",
       "4  1f3yAtsJtY87CTmM8RLnxf  spotify:track:1f3yAtsJtY87CTmM8RLnxf   \n",
       "\n",
       "                                          track_href  \\\n",
       "0  https://api.spotify.com/v1/tracks/6Uy6K3KdmUdA...   \n",
       "1  https://api.spotify.com/v1/tracks/5ghIJDpPoe3C...   \n",
       "2  https://api.spotify.com/v1/tracks/1f3yAtsJtY87...   \n",
       "3  https://api.spotify.com/v1/tracks/5ghIJDpPoe3C...   \n",
       "4  https://api.spotify.com/v1/tracks/1f3yAtsJtY87...   \n",
       "\n",
       "                                        analysis_url  genre  \\\n",
       "0  https://api.spotify.com/v1/audio-analysis/6Uy6...    Pop   \n",
       "1  https://api.spotify.com/v1/audio-analysis/5ghI...    Emo   \n",
       "2  https://api.spotify.com/v1/audio-analysis/1f3y...    Emo   \n",
       "3  https://api.spotify.com/v1/audio-analysis/5ghI...    Emo   \n",
       "4  https://api.spotify.com/v1/audio-analysis/1f3y...    Emo   \n",
       "\n",
       "                 song_name  \n",
       "0                    Brave  \n",
       "1  Smells Like Teen Spirit  \n",
       "2  Smells Like Teen Spirit  \n",
       "3  Smells Like Teen Spirit  \n",
       "4  Smells Like Teen Spirit  \n",
       "\n",
       "[5 rows x 27 columns]"
      ]
     },
     "execution_count": 19,
     "metadata": {},
     "output_type": "execute_result"
    }
   ],
   "source": [
    "merged_genres_dataset = pd.merge(data_df, genres_df, on=['danceability', 'energy', 'key', 'loudness', 'mode', 'speechiness',\n",
    "                                             'acousticness', 'instrumentalness', 'liveness', 'valence', \n",
    "                                             'tempo', 'duration_ms', 'time_signature'])\n",
    "cleaned_data_genres_dataset = merged_genres_dataset.drop(columns=['Unnamed: 0_x', 'Unnamed: 0_y', 'title'])\n",
    "# print(cleaned_data_genres_dataset.dtypes)\n",
    "cleaned_data_genres_dataset.head()"
   ]
  },
  {
   "cell_type": "markdown",
   "id": "09cb60d6",
   "metadata": {},
   "source": [
    "## Merge genres and dataset dfs "
   ]
  },
  {
   "cell_type": "markdown",
   "id": "790511d5",
   "metadata": {},
   "source": [
    "## Create Column to see if a user liked the song or not "
   ]
  },
  {
   "cell_type": "code",
   "execution_count": 20,
   "id": "5b47d6ea",
   "metadata": {},
   "outputs": [],
   "source": [
    "combine_user_info['liked_or_not'] = (combine_user_info['msPlayed'] > 100).astype(int)"
   ]
  },
  {
   "cell_type": "markdown",
   "id": "547bd20f",
   "metadata": {},
   "source": [
    "# Clean Dataset of combined_user_info"
   ]
  },
  {
   "cell_type": "code",
   "execution_count": 22,
   "id": "85b9bb02",
   "metadata": {},
   "outputs": [
    {
     "ename": "KeyError",
     "evalue": "\"['endTime'] not found in axis\"",
     "output_type": "error",
     "traceback": [
      "\u001b[0;31m---------------------------------------------------------------------------\u001b[0m",
      "\u001b[0;31mKeyError\u001b[0m                                  Traceback (most recent call last)",
      "\u001b[0;32m/var/folders/97/btz5n6xn02dbhsts19bvb8xr0000gn/T/ipykernel_41199/1498126759.py\u001b[0m in \u001b[0;36m<module>\u001b[0;34m\u001b[0m\n\u001b[1;32m      2\u001b[0m \u001b[0mcombine_user_info\u001b[0m \u001b[0;34m=\u001b[0m \u001b[0mcombine_user_info\u001b[0m\u001b[0;34m[\u001b[0m\u001b[0mcombine_user_info\u001b[0m\u001b[0;34m[\u001b[0m\u001b[0;34m'artistName'\u001b[0m\u001b[0;34m]\u001b[0m \u001b[0;34m!=\u001b[0m \u001b[0;34m'Unknown Artist'\u001b[0m\u001b[0;34m]\u001b[0m\u001b[0;34m\u001b[0m\u001b[0;34m\u001b[0m\u001b[0m\n\u001b[1;32m      3\u001b[0m \u001b[0mcombine_user_info\u001b[0m \u001b[0;34m=\u001b[0m \u001b[0mcombine_user_info\u001b[0m\u001b[0;34m[\u001b[0m\u001b[0mcombine_user_info\u001b[0m\u001b[0;34m[\u001b[0m\u001b[0;34m'trackName'\u001b[0m\u001b[0;34m]\u001b[0m \u001b[0;34m!=\u001b[0m \u001b[0;34m'Unknown Track'\u001b[0m\u001b[0;34m]\u001b[0m\u001b[0;34m\u001b[0m\u001b[0;34m\u001b[0m\u001b[0m\n\u001b[0;32m----> 4\u001b[0;31m \u001b[0mcombine_user_info\u001b[0m \u001b[0;34m=\u001b[0m \u001b[0mcombine_user_info\u001b[0m\u001b[0;34m.\u001b[0m\u001b[0mdrop\u001b[0m\u001b[0;34m(\u001b[0m\u001b[0mcolumns\u001b[0m\u001b[0;34m=\u001b[0m\u001b[0;34m[\u001b[0m\u001b[0;34m'endTime'\u001b[0m\u001b[0;34m]\u001b[0m\u001b[0;34m)\u001b[0m\u001b[0;34m\u001b[0m\u001b[0;34m\u001b[0m\u001b[0m\n\u001b[0m\u001b[1;32m      5\u001b[0m \u001b[0mlen\u001b[0m\u001b[0;34m(\u001b[0m\u001b[0;34m\"user info wihtout unknown songs or artists: \"\u001b[0m\u001b[0;34m,\u001b[0m \u001b[0mcombine_user_info\u001b[0m\u001b[0;34m)\u001b[0m\u001b[0;34m\u001b[0m\u001b[0;34m\u001b[0m\u001b[0m\n\u001b[1;32m      6\u001b[0m \u001b[0mcombine_user_info\u001b[0m\u001b[0;34m.\u001b[0m\u001b[0mhead\u001b[0m\u001b[0;34m(\u001b[0m\u001b[0;34m)\u001b[0m\u001b[0;34m\u001b[0m\u001b[0;34m\u001b[0m\u001b[0m\n",
      "\u001b[0;32m~/opt/anaconda3/lib/python3.9/site-packages/pandas/util/_decorators.py\u001b[0m in \u001b[0;36mwrapper\u001b[0;34m(*args, **kwargs)\u001b[0m\n\u001b[1;32m    309\u001b[0m                     \u001b[0mstacklevel\u001b[0m\u001b[0;34m=\u001b[0m\u001b[0mstacklevel\u001b[0m\u001b[0;34m,\u001b[0m\u001b[0;34m\u001b[0m\u001b[0;34m\u001b[0m\u001b[0m\n\u001b[1;32m    310\u001b[0m                 )\n\u001b[0;32m--> 311\u001b[0;31m             \u001b[0;32mreturn\u001b[0m \u001b[0mfunc\u001b[0m\u001b[0;34m(\u001b[0m\u001b[0;34m*\u001b[0m\u001b[0margs\u001b[0m\u001b[0;34m,\u001b[0m \u001b[0;34m**\u001b[0m\u001b[0mkwargs\u001b[0m\u001b[0;34m)\u001b[0m\u001b[0;34m\u001b[0m\u001b[0;34m\u001b[0m\u001b[0m\n\u001b[0m\u001b[1;32m    312\u001b[0m \u001b[0;34m\u001b[0m\u001b[0m\n\u001b[1;32m    313\u001b[0m         \u001b[0;32mreturn\u001b[0m \u001b[0mwrapper\u001b[0m\u001b[0;34m\u001b[0m\u001b[0;34m\u001b[0m\u001b[0m\n",
      "\u001b[0;32m~/opt/anaconda3/lib/python3.9/site-packages/pandas/core/frame.py\u001b[0m in \u001b[0;36mdrop\u001b[0;34m(self, labels, axis, index, columns, level, inplace, errors)\u001b[0m\n\u001b[1;32m   4955\u001b[0m                 \u001b[0mweight\u001b[0m  \u001b[0;36m1.0\u001b[0m     \u001b[0;36m0.8\u001b[0m\u001b[0;34m\u001b[0m\u001b[0;34m\u001b[0m\u001b[0m\n\u001b[1;32m   4956\u001b[0m         \"\"\"\n\u001b[0;32m-> 4957\u001b[0;31m         return super().drop(\n\u001b[0m\u001b[1;32m   4958\u001b[0m             \u001b[0mlabels\u001b[0m\u001b[0;34m=\u001b[0m\u001b[0mlabels\u001b[0m\u001b[0;34m,\u001b[0m\u001b[0;34m\u001b[0m\u001b[0;34m\u001b[0m\u001b[0m\n\u001b[1;32m   4959\u001b[0m             \u001b[0maxis\u001b[0m\u001b[0;34m=\u001b[0m\u001b[0maxis\u001b[0m\u001b[0;34m,\u001b[0m\u001b[0;34m\u001b[0m\u001b[0;34m\u001b[0m\u001b[0m\n",
      "\u001b[0;32m~/opt/anaconda3/lib/python3.9/site-packages/pandas/core/generic.py\u001b[0m in \u001b[0;36mdrop\u001b[0;34m(self, labels, axis, index, columns, level, inplace, errors)\u001b[0m\n\u001b[1;32m   4265\u001b[0m         \u001b[0;32mfor\u001b[0m \u001b[0maxis\u001b[0m\u001b[0;34m,\u001b[0m \u001b[0mlabels\u001b[0m \u001b[0;32min\u001b[0m \u001b[0maxes\u001b[0m\u001b[0;34m.\u001b[0m\u001b[0mitems\u001b[0m\u001b[0;34m(\u001b[0m\u001b[0;34m)\u001b[0m\u001b[0;34m:\u001b[0m\u001b[0;34m\u001b[0m\u001b[0;34m\u001b[0m\u001b[0m\n\u001b[1;32m   4266\u001b[0m             \u001b[0;32mif\u001b[0m \u001b[0mlabels\u001b[0m \u001b[0;32mis\u001b[0m \u001b[0;32mnot\u001b[0m \u001b[0;32mNone\u001b[0m\u001b[0;34m:\u001b[0m\u001b[0;34m\u001b[0m\u001b[0;34m\u001b[0m\u001b[0m\n\u001b[0;32m-> 4267\u001b[0;31m                 \u001b[0mobj\u001b[0m \u001b[0;34m=\u001b[0m \u001b[0mobj\u001b[0m\u001b[0;34m.\u001b[0m\u001b[0m_drop_axis\u001b[0m\u001b[0;34m(\u001b[0m\u001b[0mlabels\u001b[0m\u001b[0;34m,\u001b[0m \u001b[0maxis\u001b[0m\u001b[0;34m,\u001b[0m \u001b[0mlevel\u001b[0m\u001b[0;34m=\u001b[0m\u001b[0mlevel\u001b[0m\u001b[0;34m,\u001b[0m \u001b[0merrors\u001b[0m\u001b[0;34m=\u001b[0m\u001b[0merrors\u001b[0m\u001b[0;34m)\u001b[0m\u001b[0;34m\u001b[0m\u001b[0;34m\u001b[0m\u001b[0m\n\u001b[0m\u001b[1;32m   4268\u001b[0m \u001b[0;34m\u001b[0m\u001b[0m\n\u001b[1;32m   4269\u001b[0m         \u001b[0;32mif\u001b[0m \u001b[0minplace\u001b[0m\u001b[0;34m:\u001b[0m\u001b[0;34m\u001b[0m\u001b[0;34m\u001b[0m\u001b[0m\n",
      "\u001b[0;32m~/opt/anaconda3/lib/python3.9/site-packages/pandas/core/generic.py\u001b[0m in \u001b[0;36m_drop_axis\u001b[0;34m(self, labels, axis, level, errors, consolidate, only_slice)\u001b[0m\n\u001b[1;32m   4309\u001b[0m                 \u001b[0mnew_axis\u001b[0m \u001b[0;34m=\u001b[0m \u001b[0maxis\u001b[0m\u001b[0;34m.\u001b[0m\u001b[0mdrop\u001b[0m\u001b[0;34m(\u001b[0m\u001b[0mlabels\u001b[0m\u001b[0;34m,\u001b[0m \u001b[0mlevel\u001b[0m\u001b[0;34m=\u001b[0m\u001b[0mlevel\u001b[0m\u001b[0;34m,\u001b[0m \u001b[0merrors\u001b[0m\u001b[0;34m=\u001b[0m\u001b[0merrors\u001b[0m\u001b[0;34m)\u001b[0m\u001b[0;34m\u001b[0m\u001b[0;34m\u001b[0m\u001b[0m\n\u001b[1;32m   4310\u001b[0m             \u001b[0;32melse\u001b[0m\u001b[0;34m:\u001b[0m\u001b[0;34m\u001b[0m\u001b[0;34m\u001b[0m\u001b[0m\n\u001b[0;32m-> 4311\u001b[0;31m                 \u001b[0mnew_axis\u001b[0m \u001b[0;34m=\u001b[0m \u001b[0maxis\u001b[0m\u001b[0;34m.\u001b[0m\u001b[0mdrop\u001b[0m\u001b[0;34m(\u001b[0m\u001b[0mlabels\u001b[0m\u001b[0;34m,\u001b[0m \u001b[0merrors\u001b[0m\u001b[0;34m=\u001b[0m\u001b[0merrors\u001b[0m\u001b[0;34m)\u001b[0m\u001b[0;34m\u001b[0m\u001b[0;34m\u001b[0m\u001b[0m\n\u001b[0m\u001b[1;32m   4312\u001b[0m             \u001b[0mindexer\u001b[0m \u001b[0;34m=\u001b[0m \u001b[0maxis\u001b[0m\u001b[0;34m.\u001b[0m\u001b[0mget_indexer\u001b[0m\u001b[0;34m(\u001b[0m\u001b[0mnew_axis\u001b[0m\u001b[0;34m)\u001b[0m\u001b[0;34m\u001b[0m\u001b[0;34m\u001b[0m\u001b[0m\n\u001b[1;32m   4313\u001b[0m \u001b[0;34m\u001b[0m\u001b[0m\n",
      "\u001b[0;32m~/opt/anaconda3/lib/python3.9/site-packages/pandas/core/indexes/base.py\u001b[0m in \u001b[0;36mdrop\u001b[0;34m(self, labels, errors)\u001b[0m\n\u001b[1;32m   6659\u001b[0m         \u001b[0;32mif\u001b[0m \u001b[0mmask\u001b[0m\u001b[0;34m.\u001b[0m\u001b[0many\u001b[0m\u001b[0;34m(\u001b[0m\u001b[0;34m)\u001b[0m\u001b[0;34m:\u001b[0m\u001b[0;34m\u001b[0m\u001b[0;34m\u001b[0m\u001b[0m\n\u001b[1;32m   6660\u001b[0m             \u001b[0;32mif\u001b[0m \u001b[0merrors\u001b[0m \u001b[0;34m!=\u001b[0m \u001b[0;34m\"ignore\"\u001b[0m\u001b[0;34m:\u001b[0m\u001b[0;34m\u001b[0m\u001b[0;34m\u001b[0m\u001b[0m\n\u001b[0;32m-> 6661\u001b[0;31m                 \u001b[0;32mraise\u001b[0m \u001b[0mKeyError\u001b[0m\u001b[0;34m(\u001b[0m\u001b[0;34mf\"{list(labels[mask])} not found in axis\"\u001b[0m\u001b[0;34m)\u001b[0m\u001b[0;34m\u001b[0m\u001b[0;34m\u001b[0m\u001b[0m\n\u001b[0m\u001b[1;32m   6662\u001b[0m             \u001b[0mindexer\u001b[0m \u001b[0;34m=\u001b[0m \u001b[0mindexer\u001b[0m\u001b[0;34m[\u001b[0m\u001b[0;34m~\u001b[0m\u001b[0mmask\u001b[0m\u001b[0;34m]\u001b[0m\u001b[0;34m\u001b[0m\u001b[0;34m\u001b[0m\u001b[0m\n\u001b[1;32m   6663\u001b[0m         \u001b[0;32mreturn\u001b[0m \u001b[0mself\u001b[0m\u001b[0;34m.\u001b[0m\u001b[0mdelete\u001b[0m\u001b[0;34m(\u001b[0m\u001b[0mindexer\u001b[0m\u001b[0;34m)\u001b[0m\u001b[0;34m\u001b[0m\u001b[0;34m\u001b[0m\u001b[0m\n",
      "\u001b[0;31mKeyError\u001b[0m: \"['endTime'] not found in axis\""
     ]
    }
   ],
   "source": [
    "# combine_user_info = combine_user_info.drop(columns=['endTime', 'msPlayed'])\n",
    "combine_user_info = combine_user_info[combine_user_info['artistName'] != 'Unknown Artist']\n",
    "combine_user_info = combine_user_info[combine_user_info['trackName'] != 'Unknown Track']\n",
    "combine_user_info = combine_user_info.drop(columns=['endTime'])\n",
    "len(\"user info wihtout unknown songs or artists: \", combine_user_info)\n",
    "combine_user_info.head()"
   ]
  },
  {
   "cell_type": "markdown",
   "id": "12d3a31f",
   "metadata": {},
   "source": [
    "## Start creating a Naive Bayes Model "
   ]
  },
  {
   "cell_type": "markdown",
   "id": "4552d388",
   "metadata": {},
   "source": [
    "## Preprocessing  "
   ]
  },
  {
   "cell_type": "code",
   "execution_count": 23,
   "id": "4f6b52b3",
   "metadata": {},
   "outputs": [],
   "source": [
    "combine_user_info.rename(columns={'trackName': 'song_name'}, inplace=True)\n",
    "combine_user_info.rename(columns={'artistName': 'artists'}, inplace=True)"
   ]
  },
  {
   "cell_type": "markdown",
   "id": "8830b5ab",
   "metadata": {},
   "source": [
    "## Fix data up"
   ]
  },
  {
   "cell_type": "code",
   "execution_count": 29,
   "id": "8ae4a433",
   "metadata": {},
   "outputs": [
    {
     "data": {
      "text/html": [
       "<div>\n",
       "<style scoped>\n",
       "    .dataframe tbody tr th:only-of-type {\n",
       "        vertical-align: middle;\n",
       "    }\n",
       "\n",
       "    .dataframe tbody tr th {\n",
       "        vertical-align: top;\n",
       "    }\n",
       "\n",
       "    .dataframe thead th {\n",
       "        text-align: right;\n",
       "    }\n",
       "</style>\n",
       "<table border=\"1\" class=\"dataframe\">\n",
       "  <thead>\n",
       "    <tr style=\"text-align: right;\">\n",
       "      <th></th>\n",
       "      <th>artists</th>\n",
       "      <th>song_name</th>\n",
       "      <th>msPlayed</th>\n",
       "      <th>liked_or_not</th>\n",
       "      <th>msPlayed_x</th>\n",
       "      <th>liked_or_not_x</th>\n",
       "      <th>msPlayed_y</th>\n",
       "      <th>liked_or_not_y</th>\n",
       "      <th>track_id</th>\n",
       "      <th>album_name</th>\n",
       "      <th>...</th>\n",
       "      <th>valence</th>\n",
       "      <th>tempo</th>\n",
       "      <th>time_signature</th>\n",
       "      <th>track_genre</th>\n",
       "      <th>type</th>\n",
       "      <th>id</th>\n",
       "      <th>uri</th>\n",
       "      <th>track_href</th>\n",
       "      <th>analysis_url</th>\n",
       "      <th>genre</th>\n",
       "    </tr>\n",
       "  </thead>\n",
       "  <tbody>\n",
       "    <tr>\n",
       "      <th>0</th>\n",
       "      <td>Shawn Mendes</td>\n",
       "      <td>Stitches</td>\n",
       "      <td>206880</td>\n",
       "      <td>1</td>\n",
       "      <td>206880</td>\n",
       "      <td>1</td>\n",
       "      <td>206880</td>\n",
       "      <td>1</td>\n",
       "      <td>3zkWCteF82vJwv0hRLba76</td>\n",
       "      <td>Handwritten</td>\n",
       "      <td>...</td>\n",
       "      <td>0.746</td>\n",
       "      <td>149.882</td>\n",
       "      <td>4</td>\n",
       "      <td>dance</td>\n",
       "      <td>audio_features</td>\n",
       "      <td>3zkWCteF82vJwv0hRLba76</td>\n",
       "      <td>spotify:track:3zkWCteF82vJwv0hRLba76</td>\n",
       "      <td>https://api.spotify.com/v1/tracks/3zkWCteF82vJ...</td>\n",
       "      <td>https://api.spotify.com/v1/audio-analysis/3zkW...</td>\n",
       "      <td>Pop</td>\n",
       "    </tr>\n",
       "    <tr>\n",
       "      <th>686</th>\n",
       "      <td>Paramore</td>\n",
       "      <td>Hard Times</td>\n",
       "      <td>182693</td>\n",
       "      <td>1</td>\n",
       "      <td>182693</td>\n",
       "      <td>1</td>\n",
       "      <td>182693</td>\n",
       "      <td>1</td>\n",
       "      <td>0w5Bdu51Ka25Pf3hojsKHh</td>\n",
       "      <td>After Laughter</td>\n",
       "      <td>...</td>\n",
       "      <td>0.916</td>\n",
       "      <td>119.965</td>\n",
       "      <td>4</td>\n",
       "      <td>emo</td>\n",
       "      <td>audio_features</td>\n",
       "      <td>0w5Bdu51Ka25Pf3hojsKHh</td>\n",
       "      <td>spotify:track:0w5Bdu51Ka25Pf3hojsKHh</td>\n",
       "      <td>https://api.spotify.com/v1/tracks/0w5Bdu51Ka25...</td>\n",
       "      <td>https://api.spotify.com/v1/audio-analysis/0w5B...</td>\n",
       "      <td>Emo</td>\n",
       "    </tr>\n",
       "    <tr>\n",
       "      <th>942</th>\n",
       "      <td>Bruno Mars</td>\n",
       "      <td>Locked out of Heaven</td>\n",
       "      <td>233478</td>\n",
       "      <td>1</td>\n",
       "      <td>233478</td>\n",
       "      <td>1</td>\n",
       "      <td>233478</td>\n",
       "      <td>1</td>\n",
       "      <td>3w3y8KPTfNeOKPiqUTakBh</td>\n",
       "      <td>Unorthodox Jukebox</td>\n",
       "      <td>...</td>\n",
       "      <td>0.867</td>\n",
       "      <td>143.994</td>\n",
       "      <td>4</td>\n",
       "      <td>dance</td>\n",
       "      <td>audio_features</td>\n",
       "      <td>5PsMbxhgWpJMsouEfDTX6r</td>\n",
       "      <td>spotify:track:5PsMbxhgWpJMsouEfDTX6r</td>\n",
       "      <td>https://api.spotify.com/v1/tracks/5PsMbxhgWpJM...</td>\n",
       "      <td>https://api.spotify.com/v1/audio-analysis/5PsM...</td>\n",
       "      <td>Pop</td>\n",
       "    </tr>\n",
       "    <tr>\n",
       "      <th>1067</th>\n",
       "      <td>Paramore</td>\n",
       "      <td>Still into You</td>\n",
       "      <td>207850</td>\n",
       "      <td>1</td>\n",
       "      <td>207850</td>\n",
       "      <td>1</td>\n",
       "      <td>207850</td>\n",
       "      <td>1</td>\n",
       "      <td>1yjY7rpaAQvKwpdUliHx0d</td>\n",
       "      <td>Paramore</td>\n",
       "      <td>...</td>\n",
       "      <td>0.765</td>\n",
       "      <td>136.010</td>\n",
       "      <td>4</td>\n",
       "      <td>emo</td>\n",
       "      <td>audio_features</td>\n",
       "      <td>1yjY7rpaAQvKwpdUliHx0d</td>\n",
       "      <td>spotify:track:1yjY7rpaAQvKwpdUliHx0d</td>\n",
       "      <td>https://api.spotify.com/v1/tracks/1yjY7rpaAQvK...</td>\n",
       "      <td>https://api.spotify.com/v1/audio-analysis/1yjY...</td>\n",
       "      <td>Emo</td>\n",
       "    </tr>\n",
       "    <tr>\n",
       "      <th>3729</th>\n",
       "      <td>Paramore</td>\n",
       "      <td>The Only Exception</td>\n",
       "      <td>195711</td>\n",
       "      <td>1</td>\n",
       "      <td>195711</td>\n",
       "      <td>1</td>\n",
       "      <td>195711</td>\n",
       "      <td>1</td>\n",
       "      <td>7JIuqL4ZqkpfGKQhYlrirs</td>\n",
       "      <td>Brand New Eyes</td>\n",
       "      <td>...</td>\n",
       "      <td>0.209</td>\n",
       "      <td>137.715</td>\n",
       "      <td>3</td>\n",
       "      <td>emo</td>\n",
       "      <td>audio_features</td>\n",
       "      <td>7JIuqL4ZqkpfGKQhYlrirs</td>\n",
       "      <td>spotify:track:7JIuqL4ZqkpfGKQhYlrirs</td>\n",
       "      <td>https://api.spotify.com/v1/tracks/7JIuqL4Zqkpf...</td>\n",
       "      <td>https://api.spotify.com/v1/audio-analysis/7JIu...</td>\n",
       "      <td>Emo</td>\n",
       "    </tr>\n",
       "  </tbody>\n",
       "</table>\n",
       "<p>5 rows × 33 columns</p>\n",
       "</div>"
      ],
      "text/plain": [
       "           artists             song_name  msPlayed  liked_or_not  msPlayed_x  \\\n",
       "0     Shawn Mendes              Stitches    206880             1      206880   \n",
       "686       Paramore            Hard Times    182693             1      182693   \n",
       "942     Bruno Mars  Locked out of Heaven    233478             1      233478   \n",
       "1067      Paramore        Still into You    207850             1      207850   \n",
       "3729      Paramore    The Only Exception    195711             1      195711   \n",
       "\n",
       "      liked_or_not_x  msPlayed_y  liked_or_not_y                track_id  \\\n",
       "0                  1      206880               1  3zkWCteF82vJwv0hRLba76   \n",
       "686                1      182693               1  0w5Bdu51Ka25Pf3hojsKHh   \n",
       "942                1      233478               1  3w3y8KPTfNeOKPiqUTakBh   \n",
       "1067               1      207850               1  1yjY7rpaAQvKwpdUliHx0d   \n",
       "3729               1      195711               1  7JIuqL4ZqkpfGKQhYlrirs   \n",
       "\n",
       "              album_name  ... valence    tempo  time_signature  track_genre  \\\n",
       "0            Handwritten  ...   0.746  149.882               4        dance   \n",
       "686       After Laughter  ...   0.916  119.965               4          emo   \n",
       "942   Unorthodox Jukebox  ...   0.867  143.994               4        dance   \n",
       "1067            Paramore  ...   0.765  136.010               4          emo   \n",
       "3729      Brand New Eyes  ...   0.209  137.715               3          emo   \n",
       "\n",
       "                type                      id  \\\n",
       "0     audio_features  3zkWCteF82vJwv0hRLba76   \n",
       "686   audio_features  0w5Bdu51Ka25Pf3hojsKHh   \n",
       "942   audio_features  5PsMbxhgWpJMsouEfDTX6r   \n",
       "1067  audio_features  1yjY7rpaAQvKwpdUliHx0d   \n",
       "3729  audio_features  7JIuqL4ZqkpfGKQhYlrirs   \n",
       "\n",
       "                                       uri  \\\n",
       "0     spotify:track:3zkWCteF82vJwv0hRLba76   \n",
       "686   spotify:track:0w5Bdu51Ka25Pf3hojsKHh   \n",
       "942   spotify:track:5PsMbxhgWpJMsouEfDTX6r   \n",
       "1067  spotify:track:1yjY7rpaAQvKwpdUliHx0d   \n",
       "3729  spotify:track:7JIuqL4ZqkpfGKQhYlrirs   \n",
       "\n",
       "                                             track_href  \\\n",
       "0     https://api.spotify.com/v1/tracks/3zkWCteF82vJ...   \n",
       "686   https://api.spotify.com/v1/tracks/0w5Bdu51Ka25...   \n",
       "942   https://api.spotify.com/v1/tracks/5PsMbxhgWpJM...   \n",
       "1067  https://api.spotify.com/v1/tracks/1yjY7rpaAQvK...   \n",
       "3729  https://api.spotify.com/v1/tracks/7JIuqL4Zqkpf...   \n",
       "\n",
       "                                           analysis_url  genre  \n",
       "0     https://api.spotify.com/v1/audio-analysis/3zkW...    Pop  \n",
       "686   https://api.spotify.com/v1/audio-analysis/0w5B...    Emo  \n",
       "942   https://api.spotify.com/v1/audio-analysis/5PsM...    Pop  \n",
       "1067  https://api.spotify.com/v1/audio-analysis/1yjY...    Emo  \n",
       "3729  https://api.spotify.com/v1/audio-analysis/7JIu...    Emo  \n",
       "\n",
       "[5 rows x 33 columns]"
      ]
     },
     "execution_count": 29,
     "metadata": {},
     "output_type": "execute_result"
    }
   ],
   "source": [
    "# merge user data with the dataset containing the genre of a song \n",
    "cleaned_data_genres_dataset = pd.merge(combine_user_info, cleaned_data_genres_dataset, on = [\"song_name\", \"artists\"])\n",
    "cleaned_data_genres_dataset = cleaned_data_genres_dataset.drop_duplicates(subset=[\"song_name\", \"artists\"])\n",
    "cleaned_data_genres_dataset.head()\n",
    "\n",
    "# Step 2: Feature Selection\n",
    "\n",
    "# X = cleaned_data_genres_dataset[['genre']]\n",
    "# y = combine_user_info['liked_or_not']"
   ]
  },
  {
   "cell_type": "code",
   "execution_count": 30,
   "id": "e03f0bda-cf6f-48cb-aba5-4890ab85f37c",
   "metadata": {},
   "outputs": [
    {
     "name": "stdout",
     "output_type": "stream",
     "text": [
      "                           song_name       artists  danceability  energy  key  \\\n",
      "942             Locked out of Heaven    Bruno Mars         0.726   0.698    5   \n",
      "5743                Waiting For Love        Avicii         0.579   0.736    6   \n",
      "6261                    It's My Life      Bon Jovi         0.551   0.913    0   \n",
      "5657                    Heart Attack   Demi Lovato         0.504   0.785    8   \n",
      "5745                       New Rules      Dua Lipa         0.762   0.700    9   \n",
      "1067                  Still into You      Paramore         0.602   0.923    5   \n",
      "0                           Stitches  Shawn Mendes         0.746   0.754    1   \n",
      "5729              Habits (Stay High)       Tove Lo         0.733   0.650    5   \n",
      "5735  Play Hard (feat. Ne-Yo & Akon)  David Guetta         0.691   0.921    8   \n",
      "3729              The Only Exception      Paramore         0.452   0.563    4   \n",
      "\n",
      "      loudness  mode  speechiness  acousticness  instrumentalness  liveness  \\\n",
      "942     -4.165     1       0.0431       0.04900          0.000000    0.3090   \n",
      "5743    -3.863     0       0.0527       0.31000          0.000000    0.1980   \n",
      "6261    -4.063     0       0.0466       0.02630          0.000013    0.3470   \n",
      "5657    -4.802     1       0.1040       0.07380          0.000000    0.2390   \n",
      "5745    -6.021     0       0.0694       0.00261          0.000016    0.1530   \n",
      "1067    -3.763     1       0.0440       0.00980          0.000000    0.0561   \n",
      "0       -6.684     1       0.0676       0.01520          0.000000    0.0486   \n",
      "5729    -3.539     1       0.0315       0.07030          0.000066    0.0829   \n",
      "5735    -1.702     0       0.0533       0.17300          0.000000    0.3310   \n",
      "3729    -6.607     1       0.0272       0.14400          0.000000    0.1430   \n",
      "\n",
      "      valence    tempo  duration_ms  time_signature  \n",
      "942     0.867  143.994       233478               4  \n",
      "5743    0.613  127.999       230613               4  \n",
      "6261    0.544  119.992       224493               4  \n",
      "5657    0.502  173.968       210840               4  \n",
      "5745    0.608  116.073       209320               4  \n",
      "1067    0.765  136.010       216013               4  \n",
      "0       0.746  149.882       206880               4  \n",
      "5729    0.348  110.003       209160               4  \n",
      "5735    0.800  130.072       201000               4  \n",
      "3729    0.209  137.715       267653               3  \n"
     ]
    }
   ],
   "source": [
    "# Select the features to use for recommendation\n",
    "features = ['song_name', 'artists', 'danceability', 'energy', 'key', 'loudness', 'mode', 'speechiness',\n",
    "            'acousticness', 'instrumentalness', 'liveness', 'valence', \n",
    "            'tempo', 'duration_ms', 'time_signature']\n",
    "\n",
    "top_50_songs = cleaned_data_genres_dataset.nlargest(10, 'msPlayed')[features]\n",
    "print(top_50_songs)"
   ]
  },
  {
   "cell_type": "markdown",
   "id": "d77e32e1",
   "metadata": {},
   "source": [
    "## Split data "
   ]
  },
  {
   "cell_type": "code",
   "execution_count": 34,
   "id": "7b27c48c",
   "metadata": {},
   "outputs": [],
   "source": [
    "dataset.rename(columns={'track_name': 'song_name'}, inplace=True) "
   ]
  },
  {
   "cell_type": "code",
   "execution_count": 36,
   "id": "b2aee347",
   "metadata": {},
   "outputs": [
    {
     "ename": "NameError",
     "evalue": "name 'general_music_data' is not defined",
     "output_type": "error",
     "traceback": [
      "\u001b[0;31m---------------------------------------------------------------------------\u001b[0m",
      "\u001b[0;31mNameError\u001b[0m                                 Traceback (most recent call last)",
      "\u001b[0;32m/var/folders/97/btz5n6xn02dbhsts19bvb8xr0000gn/T/ipykernel_41199/3852369789.py\u001b[0m in \u001b[0;36m<module>\u001b[0;34m\u001b[0m\n\u001b[1;32m      5\u001b[0m \u001b[0;34m\u001b[0m\u001b[0m\n\u001b[1;32m      6\u001b[0m \u001b[0;31m# Ensure general_music_data is a DataFrame\u001b[0m\u001b[0;34m\u001b[0m\u001b[0;34m\u001b[0m\u001b[0m\n\u001b[0;32m----> 7\u001b[0;31m \u001b[0mdataset\u001b[0m \u001b[0;34m=\u001b[0m \u001b[0mpd\u001b[0m\u001b[0;34m.\u001b[0m\u001b[0mDataFrame\u001b[0m\u001b[0;34m(\u001b[0m\u001b[0mgeneral_music_data\u001b[0m\u001b[0;34m)\u001b[0m  \u001b[0;31m# Replace general_music_data with your actual DataFrame\u001b[0m\u001b[0;34m\u001b[0m\u001b[0;34m\u001b[0m\u001b[0m\n\u001b[0m\u001b[1;32m      8\u001b[0m \u001b[0;34m\u001b[0m\u001b[0m\n\u001b[1;32m      9\u001b[0m \u001b[0;31m# Select the feature data\u001b[0m\u001b[0;34m\u001b[0m\u001b[0;34m\u001b[0m\u001b[0m\n",
      "\u001b[0;31mNameError\u001b[0m: name 'general_music_data' is not defined"
     ]
    }
   ],
   "source": [
    "# Ensure the dataset has all required columns as numeric types\n",
    "features = ['danceability', 'energy', 'key', 'loudness', 'mode', 'speechiness',\n",
    "            'acousticness', 'instrumentalness', 'liveness', 'valence', \n",
    "            'tempo', 'duration_ms', 'time_signature']\n",
    "\n",
    "# Ensure general_music_data is a DataFrame\n",
    "dataset = pd.DataFrame(general_music_data)  # Replace general_music_data with your actual DataFrame\n",
    "\n",
    "# Select the feature data\n",
    "general_music_features = dataset[features]\n",
    "\n",
    "# Ensure the data is numeric\n",
    "general_music_features = general_music_features.apply(pd.to_numeric, errors='coerce')\n",
    "\n",
    "# Drop rows with NaN values in the feature columns\n",
    "general_music_features = general_music_features.dropna()\n",
    "\n",
    "# Initialize the KNN model\n",
    "knn = NearestNeighbors(n_neighbors=10, metric='euclidean')\n",
    "\n",
    "# Fit the model on the general music dataset\n",
    "knn.fit(general_music_features)\n",
    "\n",
    "# Find the 10 most similar songs for each of the user's top 10 songs\n",
    "recommendations = []\n",
    "\n",
    "# Assuming top_10_songs is a DataFrame with the same structure and features as general_music_features\n",
    "top_10_songs_features = top_10_songs[features].apply(pd.to_numeric, errors='coerce').dropna()\n",
    "\n",
    "for i in range(len(top_10_songs_features)):\n",
    "    distances, indices = knn.kneighbors([top_10_songs_features.iloc[i]])\n",
    "    recommendations.extend(indices[0])\n",
    "\n",
    "# Get unique recommendations and exclude the user's existing top 10 songs\n",
    "recommendation_indices = np.unique(recommendations)\n",
    "recommendations_df = dataset.iloc[recommendation_indices]\n",
    "\n",
    "# Exclude songs that the user already listened to\n",
    "recommendations_df = recommendations_df[~recommendations_df['track_id'].isin(user_data['track_id'])]\n",
    "\n",
    "# Display the recommended songs\n",
    "print(recommendations_df.head(10))"
   ]
  },
  {
   "cell_type": "code",
   "execution_count": 40,
   "id": "df7bd722-633b-4c2e-bbf2-ce771f523674",
   "metadata": {},
   "outputs": [
    {
     "name": "stderr",
     "output_type": "stream",
     "text": [
      "/Users/Daniella/opt/anaconda3/lib/python3.9/site-packages/sklearn/base.py:450: UserWarning: X does not have valid feature names, but NearestNeighbors was fitted with feature names\n",
      "  warnings.warn(\n",
      "/Users/Daniella/opt/anaconda3/lib/python3.9/site-packages/sklearn/base.py:566: FutureWarning: Arrays of bytes/strings is being converted to decimal numbers if dtype='numeric'. This behavior is deprecated in 0.24 and will be removed in 1.1 (renaming of 0.26). Please convert your data to numeric values explicitly instead.\n",
      "  X = check_array(X, **check_params)\n"
     ]
    },
    {
     "ename": "ValueError",
     "evalue": "Unable to convert array of bytes/strings into decimal numbers with dtype='numeric'",
     "output_type": "error",
     "traceback": [
      "\u001b[0;31m---------------------------------------------------------------------------\u001b[0m",
      "\u001b[0;31mValueError\u001b[0m                                Traceback (most recent call last)",
      "\u001b[0;32m~/opt/anaconda3/lib/python3.9/site-packages/sklearn/utils/validation.py\u001b[0m in \u001b[0;36mcheck_array\u001b[0;34m(array, accept_sparse, accept_large_sparse, dtype, order, copy, force_all_finite, ensure_2d, allow_nd, ensure_min_samples, ensure_min_features, estimator)\u001b[0m\n\u001b[1;32m    786\u001b[0m             \u001b[0;32mtry\u001b[0m\u001b[0;34m:\u001b[0m\u001b[0;34m\u001b[0m\u001b[0;34m\u001b[0m\u001b[0m\n\u001b[0;32m--> 787\u001b[0;31m                 \u001b[0marray\u001b[0m \u001b[0;34m=\u001b[0m \u001b[0marray\u001b[0m\u001b[0;34m.\u001b[0m\u001b[0mastype\u001b[0m\u001b[0;34m(\u001b[0m\u001b[0mnp\u001b[0m\u001b[0;34m.\u001b[0m\u001b[0mfloat64\u001b[0m\u001b[0;34m)\u001b[0m\u001b[0;34m\u001b[0m\u001b[0;34m\u001b[0m\u001b[0m\n\u001b[0m\u001b[1;32m    788\u001b[0m             \u001b[0;32mexcept\u001b[0m \u001b[0mValueError\u001b[0m \u001b[0;32mas\u001b[0m \u001b[0me\u001b[0m\u001b[0;34m:\u001b[0m\u001b[0;34m\u001b[0m\u001b[0;34m\u001b[0m\u001b[0m\n",
      "\u001b[0;31mValueError\u001b[0m: could not convert string to float: 'Locked out of Heaven'",
      "\nThe above exception was the direct cause of the following exception:\n",
      "\u001b[0;31mValueError\u001b[0m                                Traceback (most recent call last)",
      "\u001b[0;32m/var/folders/97/btz5n6xn02dbhsts19bvb8xr0000gn/T/ipykernel_41199/4189518529.py\u001b[0m in \u001b[0;36m<module>\u001b[0;34m\u001b[0m\n\u001b[1;32m     14\u001b[0m \u001b[0mrecommendations\u001b[0m \u001b[0;34m=\u001b[0m \u001b[0;34m[\u001b[0m\u001b[0;34m]\u001b[0m\u001b[0;34m\u001b[0m\u001b[0;34m\u001b[0m\u001b[0m\n\u001b[1;32m     15\u001b[0m \u001b[0;32mfor\u001b[0m \u001b[0mi\u001b[0m \u001b[0;32min\u001b[0m \u001b[0mrange\u001b[0m\u001b[0;34m(\u001b[0m\u001b[0mlen\u001b[0m\u001b[0;34m(\u001b[0m\u001b[0mtop_50_songs\u001b[0m\u001b[0;34m)\u001b[0m\u001b[0;34m)\u001b[0m\u001b[0;34m:\u001b[0m\u001b[0;34m\u001b[0m\u001b[0;34m\u001b[0m\u001b[0m\n\u001b[0;32m---> 16\u001b[0;31m     \u001b[0mdistances\u001b[0m\u001b[0;34m,\u001b[0m \u001b[0mindices\u001b[0m \u001b[0;34m=\u001b[0m \u001b[0mknn\u001b[0m\u001b[0;34m.\u001b[0m\u001b[0mkneighbors\u001b[0m\u001b[0;34m(\u001b[0m\u001b[0;34m[\u001b[0m\u001b[0mtop_50_songs\u001b[0m\u001b[0;34m.\u001b[0m\u001b[0miloc\u001b[0m\u001b[0;34m[\u001b[0m\u001b[0mi\u001b[0m\u001b[0;34m]\u001b[0m\u001b[0;34m]\u001b[0m\u001b[0;34m)\u001b[0m\u001b[0;34m\u001b[0m\u001b[0;34m\u001b[0m\u001b[0m\n\u001b[0m\u001b[1;32m     17\u001b[0m     \u001b[0mrecommendations\u001b[0m\u001b[0;34m.\u001b[0m\u001b[0mextend\u001b[0m\u001b[0;34m(\u001b[0m\u001b[0mindices\u001b[0m\u001b[0;34m[\u001b[0m\u001b[0;36m0\u001b[0m\u001b[0;34m]\u001b[0m\u001b[0;34m)\u001b[0m\u001b[0;34m\u001b[0m\u001b[0;34m\u001b[0m\u001b[0m\n\u001b[1;32m     18\u001b[0m \u001b[0;34m\u001b[0m\u001b[0m\n",
      "\u001b[0;32m~/opt/anaconda3/lib/python3.9/site-packages/sklearn/neighbors/_base.py\u001b[0m in \u001b[0;36mkneighbors\u001b[0;34m(self, X, n_neighbors, return_distance)\u001b[0m\n\u001b[1;32m    715\u001b[0m                 \u001b[0mX\u001b[0m \u001b[0;34m=\u001b[0m \u001b[0m_check_precomputed\u001b[0m\u001b[0;34m(\u001b[0m\u001b[0mX\u001b[0m\u001b[0;34m)\u001b[0m\u001b[0;34m\u001b[0m\u001b[0;34m\u001b[0m\u001b[0m\n\u001b[1;32m    716\u001b[0m             \u001b[0;32melse\u001b[0m\u001b[0;34m:\u001b[0m\u001b[0;34m\u001b[0m\u001b[0;34m\u001b[0m\u001b[0m\n\u001b[0;32m--> 717\u001b[0;31m                 \u001b[0mX\u001b[0m \u001b[0;34m=\u001b[0m \u001b[0mself\u001b[0m\u001b[0;34m.\u001b[0m\u001b[0m_validate_data\u001b[0m\u001b[0;34m(\u001b[0m\u001b[0mX\u001b[0m\u001b[0;34m,\u001b[0m \u001b[0maccept_sparse\u001b[0m\u001b[0;34m=\u001b[0m\u001b[0;34m\"csr\"\u001b[0m\u001b[0;34m,\u001b[0m \u001b[0mreset\u001b[0m\u001b[0;34m=\u001b[0m\u001b[0;32mFalse\u001b[0m\u001b[0;34m)\u001b[0m\u001b[0;34m\u001b[0m\u001b[0;34m\u001b[0m\u001b[0m\n\u001b[0m\u001b[1;32m    718\u001b[0m         \u001b[0;32melse\u001b[0m\u001b[0;34m:\u001b[0m\u001b[0;34m\u001b[0m\u001b[0;34m\u001b[0m\u001b[0m\n\u001b[1;32m    719\u001b[0m             \u001b[0mquery_is_train\u001b[0m \u001b[0;34m=\u001b[0m \u001b[0;32mTrue\u001b[0m\u001b[0;34m\u001b[0m\u001b[0;34m\u001b[0m\u001b[0m\n",
      "\u001b[0;32m~/opt/anaconda3/lib/python3.9/site-packages/sklearn/base.py\u001b[0m in \u001b[0;36m_validate_data\u001b[0;34m(self, X, y, reset, validate_separately, **check_params)\u001b[0m\n\u001b[1;32m    564\u001b[0m             \u001b[0;32mraise\u001b[0m \u001b[0mValueError\u001b[0m\u001b[0;34m(\u001b[0m\u001b[0;34m\"Validation should be done on X, y or both.\"\u001b[0m\u001b[0;34m)\u001b[0m\u001b[0;34m\u001b[0m\u001b[0;34m\u001b[0m\u001b[0m\n\u001b[1;32m    565\u001b[0m         \u001b[0;32melif\u001b[0m \u001b[0;32mnot\u001b[0m \u001b[0mno_val_X\u001b[0m \u001b[0;32mand\u001b[0m \u001b[0mno_val_y\u001b[0m\u001b[0;34m:\u001b[0m\u001b[0;34m\u001b[0m\u001b[0;34m\u001b[0m\u001b[0m\n\u001b[0;32m--> 566\u001b[0;31m             \u001b[0mX\u001b[0m \u001b[0;34m=\u001b[0m \u001b[0mcheck_array\u001b[0m\u001b[0;34m(\u001b[0m\u001b[0mX\u001b[0m\u001b[0;34m,\u001b[0m \u001b[0;34m**\u001b[0m\u001b[0mcheck_params\u001b[0m\u001b[0;34m)\u001b[0m\u001b[0;34m\u001b[0m\u001b[0;34m\u001b[0m\u001b[0m\n\u001b[0m\u001b[1;32m    567\u001b[0m             \u001b[0mout\u001b[0m \u001b[0;34m=\u001b[0m \u001b[0mX\u001b[0m\u001b[0;34m\u001b[0m\u001b[0;34m\u001b[0m\u001b[0m\n\u001b[1;32m    568\u001b[0m         \u001b[0;32melif\u001b[0m \u001b[0mno_val_X\u001b[0m \u001b[0;32mand\u001b[0m \u001b[0;32mnot\u001b[0m \u001b[0mno_val_y\u001b[0m\u001b[0;34m:\u001b[0m\u001b[0;34m\u001b[0m\u001b[0;34m\u001b[0m\u001b[0m\n",
      "\u001b[0;32m~/opt/anaconda3/lib/python3.9/site-packages/sklearn/utils/validation.py\u001b[0m in \u001b[0;36mcheck_array\u001b[0;34m(array, accept_sparse, accept_large_sparse, dtype, order, copy, force_all_finite, ensure_2d, allow_nd, ensure_min_samples, ensure_min_features, estimator)\u001b[0m\n\u001b[1;32m    787\u001b[0m                 \u001b[0marray\u001b[0m \u001b[0;34m=\u001b[0m \u001b[0marray\u001b[0m\u001b[0;34m.\u001b[0m\u001b[0mastype\u001b[0m\u001b[0;34m(\u001b[0m\u001b[0mnp\u001b[0m\u001b[0;34m.\u001b[0m\u001b[0mfloat64\u001b[0m\u001b[0;34m)\u001b[0m\u001b[0;34m\u001b[0m\u001b[0;34m\u001b[0m\u001b[0m\n\u001b[1;32m    788\u001b[0m             \u001b[0;32mexcept\u001b[0m \u001b[0mValueError\u001b[0m \u001b[0;32mas\u001b[0m \u001b[0me\u001b[0m\u001b[0;34m:\u001b[0m\u001b[0;34m\u001b[0m\u001b[0;34m\u001b[0m\u001b[0m\n\u001b[0;32m--> 789\u001b[0;31m                 raise ValueError(\n\u001b[0m\u001b[1;32m    790\u001b[0m                     \u001b[0;34m\"Unable to convert array of bytes/strings \"\u001b[0m\u001b[0;34m\u001b[0m\u001b[0;34m\u001b[0m\u001b[0m\n\u001b[1;32m    791\u001b[0m                     \u001b[0;34m\"into decimal numbers with dtype='numeric'\"\u001b[0m\u001b[0;34m\u001b[0m\u001b[0;34m\u001b[0m\u001b[0m\n",
      "\u001b[0;31mValueError\u001b[0m: Unable to convert array of bytes/strings into decimal numbers with dtype='numeric'"
     ]
    }
   ],
   "source": [
    "# Extract the feature data from the general music dataset\n",
    "features = ['danceability', 'energy', 'key', 'loudness', 'mode', 'speechiness',\n",
    "            'acousticness', 'instrumentalness', 'liveness', 'valence', \n",
    "            'tempo', 'duration_ms', 'time_signature']\n",
    "general_music_features = dataset[features]\n",
    "\n",
    "# Initialize the KNN model\n",
    "knn = NearestNeighbors(n_neighbors=10, metric= 'euclidean')\n",
    "\n",
    "# Fit the model on the general music dataset\n",
    "knn.fit(general_music_features)\n",
    "\n",
    "# Find the 10 most similar songs for each of the user's top 10 songs\n",
    "recommendations = []\n",
    "for i in range(len(top_50_songs)):\n",
    "    distances, indices = knn.kneighbors([top_50_songs.iloc[i]])\n",
    "    recommendations.extend(indices[0])\n",
    "\n",
    "# Get unique recommendations and exclude the user's existing top 10 songs\n",
    "recommendation_indices = np.unique(recommendations)\n",
    "recommendations_df = general_music_data.iloc[recommendation_indices]\n",
    "\n",
    "# Exclude songs that the user already listened to\n",
    "recommendations_df = recommendations_df[~recommendations_df['track_id'].isin(user_data['track_id'])]\n",
    "\n",
    "# Display the recommended songs\n",
    "print(recommendations_df.head(10))"
   ]
  },
  {
   "cell_type": "code",
   "execution_count": 41,
   "id": "5e40189a",
   "metadata": {},
   "outputs": [
    {
     "name": "stderr",
     "output_type": "stream",
     "text": [
      "/Users/Daniella/opt/anaconda3/lib/python3.9/site-packages/sklearn/base.py:450: UserWarning: X does not have valid feature names, but NearestNeighbors was fitted with feature names\n",
      "  warnings.warn(\n",
      "/Users/Daniella/opt/anaconda3/lib/python3.9/site-packages/sklearn/base.py:450: UserWarning: X does not have valid feature names, but NearestNeighbors was fitted with feature names\n",
      "  warnings.warn(\n",
      "/Users/Daniella/opt/anaconda3/lib/python3.9/site-packages/sklearn/base.py:450: UserWarning: X does not have valid feature names, but NearestNeighbors was fitted with feature names\n",
      "  warnings.warn(\n",
      "/Users/Daniella/opt/anaconda3/lib/python3.9/site-packages/sklearn/base.py:450: UserWarning: X does not have valid feature names, but NearestNeighbors was fitted with feature names\n",
      "  warnings.warn(\n",
      "/Users/Daniella/opt/anaconda3/lib/python3.9/site-packages/sklearn/base.py:450: UserWarning: X does not have valid feature names, but NearestNeighbors was fitted with feature names\n",
      "  warnings.warn(\n",
      "/Users/Daniella/opt/anaconda3/lib/python3.9/site-packages/sklearn/base.py:450: UserWarning: X does not have valid feature names, but NearestNeighbors was fitted with feature names\n",
      "  warnings.warn(\n",
      "/Users/Daniella/opt/anaconda3/lib/python3.9/site-packages/sklearn/base.py:450: UserWarning: X does not have valid feature names, but NearestNeighbors was fitted with feature names\n",
      "  warnings.warn(\n",
      "/Users/Daniella/opt/anaconda3/lib/python3.9/site-packages/sklearn/base.py:450: UserWarning: X does not have valid feature names, but NearestNeighbors was fitted with feature names\n",
      "  warnings.warn(\n",
      "/Users/Daniella/opt/anaconda3/lib/python3.9/site-packages/sklearn/base.py:450: UserWarning: X does not have valid feature names, but NearestNeighbors was fitted with feature names\n",
      "  warnings.warn(\n",
      "/Users/Daniella/opt/anaconda3/lib/python3.9/site-packages/sklearn/base.py:450: UserWarning: X does not have valid feature names, but NearestNeighbors was fitted with feature names\n",
      "  warnings.warn(\n"
     ]
    },
    {
     "ename": "NameError",
     "evalue": "name 'np' is not defined",
     "output_type": "error",
     "traceback": [
      "\u001b[0;31m---------------------------------------------------------------------------\u001b[0m",
      "\u001b[0;31mNameError\u001b[0m                                 Traceback (most recent call last)",
      "\u001b[0;32m/var/folders/97/btz5n6xn02dbhsts19bvb8xr0000gn/T/ipykernel_41199/2368778534.py\u001b[0m in \u001b[0;36m<module>\u001b[0;34m\u001b[0m\n\u001b[1;32m     25\u001b[0m \u001b[0;34m\u001b[0m\u001b[0m\n\u001b[1;32m     26\u001b[0m \u001b[0;31m# Get unique recommendations and exclude the user's existing top 10 songs\u001b[0m\u001b[0;34m\u001b[0m\u001b[0;34m\u001b[0m\u001b[0m\n\u001b[0;32m---> 27\u001b[0;31m \u001b[0mrecommendation_indices\u001b[0m \u001b[0;34m=\u001b[0m \u001b[0mnp\u001b[0m\u001b[0;34m.\u001b[0m\u001b[0munique\u001b[0m\u001b[0;34m(\u001b[0m\u001b[0mrecommendations\u001b[0m\u001b[0;34m)\u001b[0m\u001b[0;34m\u001b[0m\u001b[0;34m\u001b[0m\u001b[0m\n\u001b[0m\u001b[1;32m     28\u001b[0m \u001b[0mrecommendations_df\u001b[0m \u001b[0;34m=\u001b[0m \u001b[0mdataset\u001b[0m\u001b[0;34m.\u001b[0m\u001b[0miloc\u001b[0m\u001b[0;34m[\u001b[0m\u001b[0mrecommendation_indices\u001b[0m\u001b[0;34m]\u001b[0m\u001b[0;34m\u001b[0m\u001b[0;34m\u001b[0m\u001b[0m\n\u001b[1;32m     29\u001b[0m \u001b[0;34m\u001b[0m\u001b[0m\n",
      "\u001b[0;31mNameError\u001b[0m: name 'np' is not defined"
     ]
    }
   ],
   "source": [
    "# List of features to use for recommendation\n",
    "features = ['danceability', 'energy', 'key', 'loudness', 'mode', 'speechiness',\n",
    "            'acousticness', 'instrumentalness', 'liveness', 'valence', \n",
    "            'tempo', 'duration_ms', 'time_signature']\n",
    "\n",
    "# Assuming `dataset` is your general music dataset and `top_50_songs` is the user's top 50 songs DataFrame\n",
    "\n",
    "# Extract the feature data from the general music dataset\n",
    "general_music_features = dataset[features]\n",
    "\n",
    "# Initialize the KNN model\n",
    "knn = NearestNeighbors(n_neighbors=10, metric='euclidean')\n",
    "\n",
    "# Fit the model on the general music dataset\n",
    "knn.fit(general_music_features)\n",
    "\n",
    "# Ensure top_50_songs only contains the features we are interested in\n",
    "top_50_songs_features = top_50_songs[features]\n",
    "\n",
    "# Find the 10 most similar songs for each of the user's top 10 songs\n",
    "recommendations = []\n",
    "for i in range(len(top_50_songs_features)):\n",
    "    distances, indices = knn.kneighbors([top_50_songs_features.iloc[i]])\n",
    "    recommendations.extend(indices[0])\n",
    "\n",
    "# Get unique recommendations and exclude the user's existing top 10 songs\n",
    "recommendation_indices = np.unique(recommendations)\n",
    "recommendations_df = dataset.iloc[recommendation_indices]\n",
    "\n",
    "# Assuming `user_data` is the DataFrame containing the user's listening history\n",
    "# Exclude songs that the user already listened to\n",
    "recommendations_df = recommendations_df[~recommendations_df['track_id'].isin(user_data['track_id'])]\n",
    "\n",
    "# Display the recommended songs\n",
    "print(recommendations_df.head(10))"
   ]
  },
  {
   "cell_type": "code",
   "execution_count": 38,
   "id": "8e2eb49d",
   "metadata": {},
   "outputs": [],
   "source": [
    "\n"
   ]
  },
  {
   "cell_type": "code",
   "execution_count": 33,
   "id": "92711879",
   "metadata": {},
   "outputs": [
    {
     "ename": "NameError",
     "evalue": "name 'X' is not defined",
     "output_type": "error",
     "traceback": [
      "\u001b[0;31m---------------------------------------------------------------------------\u001b[0m",
      "\u001b[0;31mNameError\u001b[0m                                 Traceback (most recent call last)",
      "\u001b[0;32m/var/folders/97/btz5n6xn02dbhsts19bvb8xr0000gn/T/ipykernel_41199/4248339801.py\u001b[0m in \u001b[0;36m<module>\u001b[0;34m\u001b[0m\n\u001b[0;32m----> 1\u001b[0;31m \u001b[0mX_train\u001b[0m\u001b[0;34m,\u001b[0m \u001b[0mX_test\u001b[0m\u001b[0;34m,\u001b[0m \u001b[0my_train\u001b[0m\u001b[0;34m,\u001b[0m \u001b[0my_test\u001b[0m \u001b[0;34m=\u001b[0m \u001b[0mtrain_test_split\u001b[0m\u001b[0;34m(\u001b[0m\u001b[0mX\u001b[0m\u001b[0;34m,\u001b[0m \u001b[0my\u001b[0m\u001b[0;34m,\u001b[0m \u001b[0mtest_size\u001b[0m\u001b[0;34m=\u001b[0m\u001b[0;36m0.2\u001b[0m\u001b[0;34m,\u001b[0m \u001b[0mrandom_state\u001b[0m\u001b[0;34m=\u001b[0m\u001b[0;36m42\u001b[0m\u001b[0;34m)\u001b[0m\u001b[0;34m\u001b[0m\u001b[0;34m\u001b[0m\u001b[0m\n\u001b[0m\u001b[1;32m      2\u001b[0m \u001b[0mprint\u001b[0m\u001b[0;34m(\u001b[0m\u001b[0;34m\"Number of rows in merged_data:\"\u001b[0m\u001b[0;34m,\u001b[0m \u001b[0mlen\u001b[0m\u001b[0;34m(\u001b[0m\u001b[0mmerged_data\u001b[0m\u001b[0;34m)\u001b[0m\u001b[0;34m)\u001b[0m\u001b[0;34m\u001b[0m\u001b[0;34m\u001b[0m\u001b[0m\n\u001b[1;32m      3\u001b[0m \u001b[0;34m\u001b[0m\u001b[0m\n\u001b[1;32m      4\u001b[0m \u001b[0;31m# Check the unique values in the merging columns to see if they match\u001b[0m\u001b[0;34m\u001b[0m\u001b[0;34m\u001b[0m\u001b[0m\n\u001b[1;32m      5\u001b[0m \u001b[0;31m# print(\"Unique values in song_name column:\", merged_data['song_name'].unique())\u001b[0m\u001b[0;34m\u001b[0m\u001b[0;34m\u001b[0m\u001b[0m\n",
      "\u001b[0;31mNameError\u001b[0m: name 'X' is not defined"
     ]
    }
   ],
   "source": [
    "X_train, X_test, y_train, y_test = train_test_split(X, y, test_size=0.2, random_state=42)\n",
    "print(\"Number of rows in merged_data:\", len(merged_data))\n",
    "\n",
    "# Check the unique values in the merging columns to see if they match\n",
    "# print(\"Unique values in song_name column:\", merged_data['song_name'].unique())\n",
    "# print(\"Unique values in artists column:\", merged_data['artists'].unique())\n",
    "print(\"Length of X_train:\", len(X_train))\n",
    "print(\"Length of X_test:\", len(X_test))\n",
    "print(\"Length of y_train:\", len(y_train))\n",
    "print(\"Length of y_test:\", len(y_test))"
   ]
  },
  {
   "cell_type": "markdown",
   "id": "bfd29352",
   "metadata": {},
   "source": [
    "## Train Model + Make Prediction"
   ]
  },
  {
   "cell_type": "code",
   "execution_count": 22,
   "id": "89afea52",
   "metadata": {},
   "outputs": [
    {
     "name": "stdout",
     "output_type": "stream",
     "text": [
      "Length of y_pred: 37\n",
      "X_test shape: (37, 13)\n",
      "y_test shape: (37,)\n",
      "y_pred shape: (37,)\n"
     ]
    }
   ],
   "source": [
    "model = GaussianNB()\n",
    "model.fit(X_train, y_train)\n",
    "\n",
    "# Step 6: Predict Liked Songs\n",
    "y_pred = model.predict(X_test)\n",
    "print(\"Length of y_pred:\", len(y_pred))\n",
    "\n",
    "print(\"X_test shape:\", X_test.shape)\n",
    "print(\"y_test shape:\", y_test.shape)\n",
    "print(\"y_pred shape:\", y_pred.shape)"
   ]
  },
  {
   "cell_type": "markdown",
   "id": "5f0f2d2a",
   "metadata": {},
   "source": [
    "## Recommend Songs"
   ]
  },
  {
   "cell_type": "code",
   "execution_count": 30,
   "id": "00d25601",
   "metadata": {},
   "outputs": [
    {
     "ename": "IndexError",
     "evalue": "Boolean index has wrong length: 37 instead of 182",
     "output_type": "error",
     "traceback": [
      "\u001b[0;31m---------------------------------------------------------------------------\u001b[0m",
      "\u001b[0;31mIndexError\u001b[0m                                Traceback (most recent call last)",
      "\u001b[0;32m/var/folders/97/btz5n6xn02dbhsts19bvb8xr0000gn/T/ipykernel_38229/4065090559.py\u001b[0m in \u001b[0;36m<module>\u001b[0;34m\u001b[0m\n\u001b[1;32m      1\u001b[0m \u001b[0;31m# Step 7: Recommendation\u001b[0m\u001b[0;34m\u001b[0m\u001b[0;34m\u001b[0m\u001b[0m\n\u001b[1;32m      2\u001b[0m \u001b[0;31m# Assuming recommendation based on songs predicted as liked (y_pred == 1)\u001b[0m\u001b[0;34m\u001b[0m\u001b[0;34m\u001b[0m\u001b[0m\n\u001b[0;32m----> 3\u001b[0;31m \u001b[0mrecommended_songs\u001b[0m \u001b[0;34m=\u001b[0m \u001b[0mmerged_data\u001b[0m\u001b[0;34m.\u001b[0m\u001b[0mloc\u001b[0m\u001b[0;34m[\u001b[0m\u001b[0my_pred\u001b[0m \u001b[0;34m==\u001b[0m \u001b[0;36m1\u001b[0m\u001b[0;34m,\u001b[0m \u001b[0;34m[\u001b[0m\u001b[0;34m'song_name'\u001b[0m\u001b[0;34m,\u001b[0m \u001b[0;34m'artists'\u001b[0m\u001b[0;34m]\u001b[0m\u001b[0;34m]\u001b[0m\u001b[0;34m\u001b[0m\u001b[0;34m\u001b[0m\u001b[0m\n\u001b[0m\u001b[1;32m      4\u001b[0m \u001b[0;31m# print(\"Length of y_pred:\", len(y_pred))\u001b[0m\u001b[0;34m\u001b[0m\u001b[0;34m\u001b[0m\u001b[0m\n\u001b[1;32m      5\u001b[0m \u001b[0;31m# print(\"Length of merged_data:\", len(merged_data))\u001b[0m\u001b[0;34m\u001b[0m\u001b[0;34m\u001b[0m\u001b[0m\n",
      "\u001b[0;32m~/opt/anaconda3/lib/python3.9/site-packages/pandas/core/indexing.py\u001b[0m in \u001b[0;36m__getitem__\u001b[0;34m(self, key)\u001b[0m\n\u001b[1;32m    959\u001b[0m             \u001b[0;32mif\u001b[0m \u001b[0mself\u001b[0m\u001b[0;34m.\u001b[0m\u001b[0m_is_scalar_access\u001b[0m\u001b[0;34m(\u001b[0m\u001b[0mkey\u001b[0m\u001b[0;34m)\u001b[0m\u001b[0;34m:\u001b[0m\u001b[0;34m\u001b[0m\u001b[0;34m\u001b[0m\u001b[0m\n\u001b[1;32m    960\u001b[0m                 \u001b[0;32mreturn\u001b[0m \u001b[0mself\u001b[0m\u001b[0;34m.\u001b[0m\u001b[0mobj\u001b[0m\u001b[0;34m.\u001b[0m\u001b[0m_get_value\u001b[0m\u001b[0;34m(\u001b[0m\u001b[0;34m*\u001b[0m\u001b[0mkey\u001b[0m\u001b[0;34m,\u001b[0m \u001b[0mtakeable\u001b[0m\u001b[0;34m=\u001b[0m\u001b[0mself\u001b[0m\u001b[0;34m.\u001b[0m\u001b[0m_takeable\u001b[0m\u001b[0;34m)\u001b[0m\u001b[0;34m\u001b[0m\u001b[0;34m\u001b[0m\u001b[0m\n\u001b[0;32m--> 961\u001b[0;31m             \u001b[0;32mreturn\u001b[0m \u001b[0mself\u001b[0m\u001b[0;34m.\u001b[0m\u001b[0m_getitem_tuple\u001b[0m\u001b[0;34m(\u001b[0m\u001b[0mkey\u001b[0m\u001b[0;34m)\u001b[0m\u001b[0;34m\u001b[0m\u001b[0;34m\u001b[0m\u001b[0m\n\u001b[0m\u001b[1;32m    962\u001b[0m         \u001b[0;32melse\u001b[0m\u001b[0;34m:\u001b[0m\u001b[0;34m\u001b[0m\u001b[0;34m\u001b[0m\u001b[0m\n\u001b[1;32m    963\u001b[0m             \u001b[0;31m# we by definition only have the 0th axis\u001b[0m\u001b[0;34m\u001b[0m\u001b[0;34m\u001b[0m\u001b[0m\n",
      "\u001b[0;32m~/opt/anaconda3/lib/python3.9/site-packages/pandas/core/indexing.py\u001b[0m in \u001b[0;36m_getitem_tuple\u001b[0;34m(self, tup)\u001b[0m\n\u001b[1;32m   1147\u001b[0m             \u001b[0;32mreturn\u001b[0m \u001b[0mself\u001b[0m\u001b[0;34m.\u001b[0m\u001b[0m_multi_take\u001b[0m\u001b[0;34m(\u001b[0m\u001b[0mtup\u001b[0m\u001b[0;34m)\u001b[0m\u001b[0;34m\u001b[0m\u001b[0;34m\u001b[0m\u001b[0m\n\u001b[1;32m   1148\u001b[0m \u001b[0;34m\u001b[0m\u001b[0m\n\u001b[0;32m-> 1149\u001b[0;31m         \u001b[0;32mreturn\u001b[0m \u001b[0mself\u001b[0m\u001b[0;34m.\u001b[0m\u001b[0m_getitem_tuple_same_dim\u001b[0m\u001b[0;34m(\u001b[0m\u001b[0mtup\u001b[0m\u001b[0;34m)\u001b[0m\u001b[0;34m\u001b[0m\u001b[0;34m\u001b[0m\u001b[0m\n\u001b[0m\u001b[1;32m   1150\u001b[0m \u001b[0;34m\u001b[0m\u001b[0m\n\u001b[1;32m   1151\u001b[0m     \u001b[0;32mdef\u001b[0m \u001b[0m_get_label\u001b[0m\u001b[0;34m(\u001b[0m\u001b[0mself\u001b[0m\u001b[0;34m,\u001b[0m \u001b[0mlabel\u001b[0m\u001b[0;34m,\u001b[0m \u001b[0maxis\u001b[0m\u001b[0;34m:\u001b[0m \u001b[0mint\u001b[0m\u001b[0;34m)\u001b[0m\u001b[0;34m:\u001b[0m\u001b[0;34m\u001b[0m\u001b[0;34m\u001b[0m\u001b[0m\n",
      "\u001b[0;32m~/opt/anaconda3/lib/python3.9/site-packages/pandas/core/indexing.py\u001b[0m in \u001b[0;36m_getitem_tuple_same_dim\u001b[0;34m(self, tup)\u001b[0m\n\u001b[1;32m    825\u001b[0m                 \u001b[0;32mcontinue\u001b[0m\u001b[0;34m\u001b[0m\u001b[0;34m\u001b[0m\u001b[0m\n\u001b[1;32m    826\u001b[0m \u001b[0;34m\u001b[0m\u001b[0m\n\u001b[0;32m--> 827\u001b[0;31m             \u001b[0mretval\u001b[0m \u001b[0;34m=\u001b[0m \u001b[0mgetattr\u001b[0m\u001b[0;34m(\u001b[0m\u001b[0mretval\u001b[0m\u001b[0;34m,\u001b[0m \u001b[0mself\u001b[0m\u001b[0;34m.\u001b[0m\u001b[0mname\u001b[0m\u001b[0;34m)\u001b[0m\u001b[0;34m.\u001b[0m\u001b[0m_getitem_axis\u001b[0m\u001b[0;34m(\u001b[0m\u001b[0mkey\u001b[0m\u001b[0;34m,\u001b[0m \u001b[0maxis\u001b[0m\u001b[0;34m=\u001b[0m\u001b[0mi\u001b[0m\u001b[0;34m)\u001b[0m\u001b[0;34m\u001b[0m\u001b[0;34m\u001b[0m\u001b[0m\n\u001b[0m\u001b[1;32m    828\u001b[0m             \u001b[0;31m# We should never have retval.ndim < self.ndim, as that should\u001b[0m\u001b[0;34m\u001b[0m\u001b[0;34m\u001b[0m\u001b[0m\n\u001b[1;32m    829\u001b[0m             \u001b[0;31m#  be handled by the _getitem_lowerdim call above.\u001b[0m\u001b[0;34m\u001b[0m\u001b[0;34m\u001b[0m\u001b[0m\n",
      "\u001b[0;32m~/opt/anaconda3/lib/python3.9/site-packages/pandas/core/indexing.py\u001b[0m in \u001b[0;36m_getitem_axis\u001b[0;34m(self, key, axis)\u001b[0m\n\u001b[1;32m   1183\u001b[0m             \u001b[0;32mreturn\u001b[0m \u001b[0mself\u001b[0m\u001b[0;34m.\u001b[0m\u001b[0m_get_slice_axis\u001b[0m\u001b[0;34m(\u001b[0m\u001b[0mkey\u001b[0m\u001b[0;34m,\u001b[0m \u001b[0maxis\u001b[0m\u001b[0;34m=\u001b[0m\u001b[0maxis\u001b[0m\u001b[0;34m)\u001b[0m\u001b[0;34m\u001b[0m\u001b[0;34m\u001b[0m\u001b[0m\n\u001b[1;32m   1184\u001b[0m         \u001b[0;32melif\u001b[0m \u001b[0mcom\u001b[0m\u001b[0;34m.\u001b[0m\u001b[0mis_bool_indexer\u001b[0m\u001b[0;34m(\u001b[0m\u001b[0mkey\u001b[0m\u001b[0;34m)\u001b[0m\u001b[0;34m:\u001b[0m\u001b[0;34m\u001b[0m\u001b[0;34m\u001b[0m\u001b[0m\n\u001b[0;32m-> 1185\u001b[0;31m             \u001b[0;32mreturn\u001b[0m \u001b[0mself\u001b[0m\u001b[0;34m.\u001b[0m\u001b[0m_getbool_axis\u001b[0m\u001b[0;34m(\u001b[0m\u001b[0mkey\u001b[0m\u001b[0;34m,\u001b[0m \u001b[0maxis\u001b[0m\u001b[0;34m=\u001b[0m\u001b[0maxis\u001b[0m\u001b[0;34m)\u001b[0m\u001b[0;34m\u001b[0m\u001b[0;34m\u001b[0m\u001b[0m\n\u001b[0m\u001b[1;32m   1186\u001b[0m         \u001b[0;32melif\u001b[0m \u001b[0mis_list_like_indexer\u001b[0m\u001b[0;34m(\u001b[0m\u001b[0mkey\u001b[0m\u001b[0;34m)\u001b[0m\u001b[0;34m:\u001b[0m\u001b[0;34m\u001b[0m\u001b[0;34m\u001b[0m\u001b[0m\n\u001b[1;32m   1187\u001b[0m \u001b[0;34m\u001b[0m\u001b[0m\n",
      "\u001b[0;32m~/opt/anaconda3/lib/python3.9/site-packages/pandas/core/indexing.py\u001b[0m in \u001b[0;36m_getbool_axis\u001b[0;34m(self, key, axis)\u001b[0m\n\u001b[1;32m    982\u001b[0m         \u001b[0;31m# caller is responsible for ensuring non-None axis\u001b[0m\u001b[0;34m\u001b[0m\u001b[0;34m\u001b[0m\u001b[0m\n\u001b[1;32m    983\u001b[0m         \u001b[0mlabels\u001b[0m \u001b[0;34m=\u001b[0m \u001b[0mself\u001b[0m\u001b[0;34m.\u001b[0m\u001b[0mobj\u001b[0m\u001b[0;34m.\u001b[0m\u001b[0m_get_axis\u001b[0m\u001b[0;34m(\u001b[0m\u001b[0maxis\u001b[0m\u001b[0;34m)\u001b[0m\u001b[0;34m\u001b[0m\u001b[0;34m\u001b[0m\u001b[0m\n\u001b[0;32m--> 984\u001b[0;31m         \u001b[0mkey\u001b[0m \u001b[0;34m=\u001b[0m \u001b[0mcheck_bool_indexer\u001b[0m\u001b[0;34m(\u001b[0m\u001b[0mlabels\u001b[0m\u001b[0;34m,\u001b[0m \u001b[0mkey\u001b[0m\u001b[0;34m)\u001b[0m\u001b[0;34m\u001b[0m\u001b[0;34m\u001b[0m\u001b[0m\n\u001b[0m\u001b[1;32m    985\u001b[0m         \u001b[0minds\u001b[0m \u001b[0;34m=\u001b[0m \u001b[0mkey\u001b[0m\u001b[0;34m.\u001b[0m\u001b[0mnonzero\u001b[0m\u001b[0;34m(\u001b[0m\u001b[0;34m)\u001b[0m\u001b[0;34m[\u001b[0m\u001b[0;36m0\u001b[0m\u001b[0;34m]\u001b[0m\u001b[0;34m\u001b[0m\u001b[0;34m\u001b[0m\u001b[0m\n\u001b[1;32m    986\u001b[0m         \u001b[0;32mreturn\u001b[0m \u001b[0mself\u001b[0m\u001b[0;34m.\u001b[0m\u001b[0mobj\u001b[0m\u001b[0;34m.\u001b[0m\u001b[0m_take_with_is_copy\u001b[0m\u001b[0;34m(\u001b[0m\u001b[0minds\u001b[0m\u001b[0;34m,\u001b[0m \u001b[0maxis\u001b[0m\u001b[0;34m=\u001b[0m\u001b[0maxis\u001b[0m\u001b[0;34m)\u001b[0m\u001b[0;34m\u001b[0m\u001b[0;34m\u001b[0m\u001b[0m\n",
      "\u001b[0;32m~/opt/anaconda3/lib/python3.9/site-packages/pandas/core/indexing.py\u001b[0m in \u001b[0;36mcheck_bool_indexer\u001b[0;34m(index, key)\u001b[0m\n\u001b[1;32m   2399\u001b[0m         \u001b[0;31m# key may contain nan elements, check_array_indexer needs bool array\u001b[0m\u001b[0;34m\u001b[0m\u001b[0;34m\u001b[0m\u001b[0m\n\u001b[1;32m   2400\u001b[0m         \u001b[0mresult\u001b[0m \u001b[0;34m=\u001b[0m \u001b[0mpd_array\u001b[0m\u001b[0;34m(\u001b[0m\u001b[0mresult\u001b[0m\u001b[0;34m,\u001b[0m \u001b[0mdtype\u001b[0m\u001b[0;34m=\u001b[0m\u001b[0mbool\u001b[0m\u001b[0;34m)\u001b[0m\u001b[0;34m\u001b[0m\u001b[0;34m\u001b[0m\u001b[0m\n\u001b[0;32m-> 2401\u001b[0;31m     \u001b[0;32mreturn\u001b[0m \u001b[0mcheck_array_indexer\u001b[0m\u001b[0;34m(\u001b[0m\u001b[0mindex\u001b[0m\u001b[0;34m,\u001b[0m \u001b[0mresult\u001b[0m\u001b[0;34m)\u001b[0m\u001b[0;34m\u001b[0m\u001b[0;34m\u001b[0m\u001b[0m\n\u001b[0m\u001b[1;32m   2402\u001b[0m \u001b[0;34m\u001b[0m\u001b[0m\n\u001b[1;32m   2403\u001b[0m \u001b[0;34m\u001b[0m\u001b[0m\n",
      "\u001b[0;32m~/opt/anaconda3/lib/python3.9/site-packages/pandas/core/indexers/utils.py\u001b[0m in \u001b[0;36mcheck_array_indexer\u001b[0;34m(array, indexer)\u001b[0m\n\u001b[1;32m    577\u001b[0m         \u001b[0;31m# GH26658\u001b[0m\u001b[0;34m\u001b[0m\u001b[0;34m\u001b[0m\u001b[0m\n\u001b[1;32m    578\u001b[0m         \u001b[0;32mif\u001b[0m \u001b[0mlen\u001b[0m\u001b[0;34m(\u001b[0m\u001b[0mindexer\u001b[0m\u001b[0;34m)\u001b[0m \u001b[0;34m!=\u001b[0m \u001b[0mlen\u001b[0m\u001b[0;34m(\u001b[0m\u001b[0marray\u001b[0m\u001b[0;34m)\u001b[0m\u001b[0;34m:\u001b[0m\u001b[0;34m\u001b[0m\u001b[0;34m\u001b[0m\u001b[0m\n\u001b[0;32m--> 579\u001b[0;31m             raise IndexError(\n\u001b[0m\u001b[1;32m    580\u001b[0m                 \u001b[0;34mf\"Boolean index has wrong length: \"\u001b[0m\u001b[0;34m\u001b[0m\u001b[0;34m\u001b[0m\u001b[0m\n\u001b[1;32m    581\u001b[0m                 \u001b[0;34mf\"{len(indexer)} instead of {len(array)}\"\u001b[0m\u001b[0;34m\u001b[0m\u001b[0;34m\u001b[0m\u001b[0m\n",
      "\u001b[0;31mIndexError\u001b[0m: Boolean index has wrong length: 37 instead of 182"
     ]
    }
   ],
   "source": [
    "# Step 7: Recommendation\n",
    "# Assuming recommendation based on songs predicted as liked (y_pred == 1)\n",
    "recommended_songs = merged_data.loc[y_pred == 1, ['song_name', 'artists']]\n",
    "# print(\"Length of y_pred:\", len(y_pred))\n",
    "# print(\"Length of merged_data:\", len(merged_data))\n",
    "# Display recommended songs\n",
    "print(\"Recommended Songs:\")\n",
    "print(recommended_songs)"
   ]
  },
  {
   "cell_type": "code",
   "execution_count": 26,
   "id": "e507a46f",
   "metadata": {},
   "outputs": [
    {
     "ename": "IndexError",
     "evalue": "Boolean index has wrong length: 37 instead of 182",
     "output_type": "error",
     "traceback": [
      "\u001b[0;31m---------------------------------------------------------------------------\u001b[0m",
      "\u001b[0;31mIndexError\u001b[0m                                Traceback (most recent call last)",
      "\u001b[0;32m/var/folders/97/btz5n6xn02dbhsts19bvb8xr0000gn/T/ipykernel_38229/662345257.py\u001b[0m in \u001b[0;36m<module>\u001b[0;34m\u001b[0m\n\u001b[1;32m     10\u001b[0m \u001b[0;34m\u001b[0m\u001b[0m\n\u001b[1;32m     11\u001b[0m \u001b[0;31m# Generate recommendations\u001b[0m\u001b[0;34m\u001b[0m\u001b[0;34m\u001b[0m\u001b[0m\n\u001b[0;32m---> 12\u001b[0;31m \u001b[0mrecommendations\u001b[0m \u001b[0;34m=\u001b[0m \u001b[0mmerged_data\u001b[0m\u001b[0;34m.\u001b[0m\u001b[0mloc\u001b[0m\u001b[0;34m[\u001b[0m\u001b[0my_pred\u001b[0m \u001b[0;34m==\u001b[0m \u001b[0;36m1\u001b[0m\u001b[0;34m,\u001b[0m \u001b[0;34m[\u001b[0m\u001b[0;34m'song_name'\u001b[0m\u001b[0;34m,\u001b[0m \u001b[0;34m'artists'\u001b[0m\u001b[0;34m]\u001b[0m\u001b[0;34m]\u001b[0m\u001b[0;34m\u001b[0m\u001b[0;34m\u001b[0m\u001b[0m\n\u001b[0m\u001b[1;32m     13\u001b[0m \u001b[0;34m\u001b[0m\u001b[0m\n\u001b[1;32m     14\u001b[0m \u001b[0;31m# Display recommendations\u001b[0m\u001b[0;34m\u001b[0m\u001b[0;34m\u001b[0m\u001b[0m\n",
      "\u001b[0;32m~/opt/anaconda3/lib/python3.9/site-packages/pandas/core/indexing.py\u001b[0m in \u001b[0;36m__getitem__\u001b[0;34m(self, key)\u001b[0m\n\u001b[1;32m    959\u001b[0m             \u001b[0;32mif\u001b[0m \u001b[0mself\u001b[0m\u001b[0;34m.\u001b[0m\u001b[0m_is_scalar_access\u001b[0m\u001b[0;34m(\u001b[0m\u001b[0mkey\u001b[0m\u001b[0;34m)\u001b[0m\u001b[0;34m:\u001b[0m\u001b[0;34m\u001b[0m\u001b[0;34m\u001b[0m\u001b[0m\n\u001b[1;32m    960\u001b[0m                 \u001b[0;32mreturn\u001b[0m \u001b[0mself\u001b[0m\u001b[0;34m.\u001b[0m\u001b[0mobj\u001b[0m\u001b[0;34m.\u001b[0m\u001b[0m_get_value\u001b[0m\u001b[0;34m(\u001b[0m\u001b[0;34m*\u001b[0m\u001b[0mkey\u001b[0m\u001b[0;34m,\u001b[0m \u001b[0mtakeable\u001b[0m\u001b[0;34m=\u001b[0m\u001b[0mself\u001b[0m\u001b[0;34m.\u001b[0m\u001b[0m_takeable\u001b[0m\u001b[0;34m)\u001b[0m\u001b[0;34m\u001b[0m\u001b[0;34m\u001b[0m\u001b[0m\n\u001b[0;32m--> 961\u001b[0;31m             \u001b[0;32mreturn\u001b[0m \u001b[0mself\u001b[0m\u001b[0;34m.\u001b[0m\u001b[0m_getitem_tuple\u001b[0m\u001b[0;34m(\u001b[0m\u001b[0mkey\u001b[0m\u001b[0;34m)\u001b[0m\u001b[0;34m\u001b[0m\u001b[0;34m\u001b[0m\u001b[0m\n\u001b[0m\u001b[1;32m    962\u001b[0m         \u001b[0;32melse\u001b[0m\u001b[0;34m:\u001b[0m\u001b[0;34m\u001b[0m\u001b[0;34m\u001b[0m\u001b[0m\n\u001b[1;32m    963\u001b[0m             \u001b[0;31m# we by definition only have the 0th axis\u001b[0m\u001b[0;34m\u001b[0m\u001b[0;34m\u001b[0m\u001b[0m\n",
      "\u001b[0;32m~/opt/anaconda3/lib/python3.9/site-packages/pandas/core/indexing.py\u001b[0m in \u001b[0;36m_getitem_tuple\u001b[0;34m(self, tup)\u001b[0m\n\u001b[1;32m   1147\u001b[0m             \u001b[0;32mreturn\u001b[0m \u001b[0mself\u001b[0m\u001b[0;34m.\u001b[0m\u001b[0m_multi_take\u001b[0m\u001b[0;34m(\u001b[0m\u001b[0mtup\u001b[0m\u001b[0;34m)\u001b[0m\u001b[0;34m\u001b[0m\u001b[0;34m\u001b[0m\u001b[0m\n\u001b[1;32m   1148\u001b[0m \u001b[0;34m\u001b[0m\u001b[0m\n\u001b[0;32m-> 1149\u001b[0;31m         \u001b[0;32mreturn\u001b[0m \u001b[0mself\u001b[0m\u001b[0;34m.\u001b[0m\u001b[0m_getitem_tuple_same_dim\u001b[0m\u001b[0;34m(\u001b[0m\u001b[0mtup\u001b[0m\u001b[0;34m)\u001b[0m\u001b[0;34m\u001b[0m\u001b[0;34m\u001b[0m\u001b[0m\n\u001b[0m\u001b[1;32m   1150\u001b[0m \u001b[0;34m\u001b[0m\u001b[0m\n\u001b[1;32m   1151\u001b[0m     \u001b[0;32mdef\u001b[0m \u001b[0m_get_label\u001b[0m\u001b[0;34m(\u001b[0m\u001b[0mself\u001b[0m\u001b[0;34m,\u001b[0m \u001b[0mlabel\u001b[0m\u001b[0;34m,\u001b[0m \u001b[0maxis\u001b[0m\u001b[0;34m:\u001b[0m \u001b[0mint\u001b[0m\u001b[0;34m)\u001b[0m\u001b[0;34m:\u001b[0m\u001b[0;34m\u001b[0m\u001b[0;34m\u001b[0m\u001b[0m\n",
      "\u001b[0;32m~/opt/anaconda3/lib/python3.9/site-packages/pandas/core/indexing.py\u001b[0m in \u001b[0;36m_getitem_tuple_same_dim\u001b[0;34m(self, tup)\u001b[0m\n\u001b[1;32m    825\u001b[0m                 \u001b[0;32mcontinue\u001b[0m\u001b[0;34m\u001b[0m\u001b[0;34m\u001b[0m\u001b[0m\n\u001b[1;32m    826\u001b[0m \u001b[0;34m\u001b[0m\u001b[0m\n\u001b[0;32m--> 827\u001b[0;31m             \u001b[0mretval\u001b[0m \u001b[0;34m=\u001b[0m \u001b[0mgetattr\u001b[0m\u001b[0;34m(\u001b[0m\u001b[0mretval\u001b[0m\u001b[0;34m,\u001b[0m \u001b[0mself\u001b[0m\u001b[0;34m.\u001b[0m\u001b[0mname\u001b[0m\u001b[0;34m)\u001b[0m\u001b[0;34m.\u001b[0m\u001b[0m_getitem_axis\u001b[0m\u001b[0;34m(\u001b[0m\u001b[0mkey\u001b[0m\u001b[0;34m,\u001b[0m \u001b[0maxis\u001b[0m\u001b[0;34m=\u001b[0m\u001b[0mi\u001b[0m\u001b[0;34m)\u001b[0m\u001b[0;34m\u001b[0m\u001b[0;34m\u001b[0m\u001b[0m\n\u001b[0m\u001b[1;32m    828\u001b[0m             \u001b[0;31m# We should never have retval.ndim < self.ndim, as that should\u001b[0m\u001b[0;34m\u001b[0m\u001b[0;34m\u001b[0m\u001b[0m\n\u001b[1;32m    829\u001b[0m             \u001b[0;31m#  be handled by the _getitem_lowerdim call above.\u001b[0m\u001b[0;34m\u001b[0m\u001b[0;34m\u001b[0m\u001b[0m\n",
      "\u001b[0;32m~/opt/anaconda3/lib/python3.9/site-packages/pandas/core/indexing.py\u001b[0m in \u001b[0;36m_getitem_axis\u001b[0;34m(self, key, axis)\u001b[0m\n\u001b[1;32m   1183\u001b[0m             \u001b[0;32mreturn\u001b[0m \u001b[0mself\u001b[0m\u001b[0;34m.\u001b[0m\u001b[0m_get_slice_axis\u001b[0m\u001b[0;34m(\u001b[0m\u001b[0mkey\u001b[0m\u001b[0;34m,\u001b[0m \u001b[0maxis\u001b[0m\u001b[0;34m=\u001b[0m\u001b[0maxis\u001b[0m\u001b[0;34m)\u001b[0m\u001b[0;34m\u001b[0m\u001b[0;34m\u001b[0m\u001b[0m\n\u001b[1;32m   1184\u001b[0m         \u001b[0;32melif\u001b[0m \u001b[0mcom\u001b[0m\u001b[0;34m.\u001b[0m\u001b[0mis_bool_indexer\u001b[0m\u001b[0;34m(\u001b[0m\u001b[0mkey\u001b[0m\u001b[0;34m)\u001b[0m\u001b[0;34m:\u001b[0m\u001b[0;34m\u001b[0m\u001b[0;34m\u001b[0m\u001b[0m\n\u001b[0;32m-> 1185\u001b[0;31m             \u001b[0;32mreturn\u001b[0m \u001b[0mself\u001b[0m\u001b[0;34m.\u001b[0m\u001b[0m_getbool_axis\u001b[0m\u001b[0;34m(\u001b[0m\u001b[0mkey\u001b[0m\u001b[0;34m,\u001b[0m \u001b[0maxis\u001b[0m\u001b[0;34m=\u001b[0m\u001b[0maxis\u001b[0m\u001b[0;34m)\u001b[0m\u001b[0;34m\u001b[0m\u001b[0;34m\u001b[0m\u001b[0m\n\u001b[0m\u001b[1;32m   1186\u001b[0m         \u001b[0;32melif\u001b[0m \u001b[0mis_list_like_indexer\u001b[0m\u001b[0;34m(\u001b[0m\u001b[0mkey\u001b[0m\u001b[0;34m)\u001b[0m\u001b[0;34m:\u001b[0m\u001b[0;34m\u001b[0m\u001b[0;34m\u001b[0m\u001b[0m\n\u001b[1;32m   1187\u001b[0m \u001b[0;34m\u001b[0m\u001b[0m\n",
      "\u001b[0;32m~/opt/anaconda3/lib/python3.9/site-packages/pandas/core/indexing.py\u001b[0m in \u001b[0;36m_getbool_axis\u001b[0;34m(self, key, axis)\u001b[0m\n\u001b[1;32m    982\u001b[0m         \u001b[0;31m# caller is responsible for ensuring non-None axis\u001b[0m\u001b[0;34m\u001b[0m\u001b[0;34m\u001b[0m\u001b[0m\n\u001b[1;32m    983\u001b[0m         \u001b[0mlabels\u001b[0m \u001b[0;34m=\u001b[0m \u001b[0mself\u001b[0m\u001b[0;34m.\u001b[0m\u001b[0mobj\u001b[0m\u001b[0;34m.\u001b[0m\u001b[0m_get_axis\u001b[0m\u001b[0;34m(\u001b[0m\u001b[0maxis\u001b[0m\u001b[0;34m)\u001b[0m\u001b[0;34m\u001b[0m\u001b[0;34m\u001b[0m\u001b[0m\n\u001b[0;32m--> 984\u001b[0;31m         \u001b[0mkey\u001b[0m \u001b[0;34m=\u001b[0m \u001b[0mcheck_bool_indexer\u001b[0m\u001b[0;34m(\u001b[0m\u001b[0mlabels\u001b[0m\u001b[0;34m,\u001b[0m \u001b[0mkey\u001b[0m\u001b[0;34m)\u001b[0m\u001b[0;34m\u001b[0m\u001b[0;34m\u001b[0m\u001b[0m\n\u001b[0m\u001b[1;32m    985\u001b[0m         \u001b[0minds\u001b[0m \u001b[0;34m=\u001b[0m \u001b[0mkey\u001b[0m\u001b[0;34m.\u001b[0m\u001b[0mnonzero\u001b[0m\u001b[0;34m(\u001b[0m\u001b[0;34m)\u001b[0m\u001b[0;34m[\u001b[0m\u001b[0;36m0\u001b[0m\u001b[0;34m]\u001b[0m\u001b[0;34m\u001b[0m\u001b[0;34m\u001b[0m\u001b[0m\n\u001b[1;32m    986\u001b[0m         \u001b[0;32mreturn\u001b[0m \u001b[0mself\u001b[0m\u001b[0;34m.\u001b[0m\u001b[0mobj\u001b[0m\u001b[0;34m.\u001b[0m\u001b[0m_take_with_is_copy\u001b[0m\u001b[0;34m(\u001b[0m\u001b[0minds\u001b[0m\u001b[0;34m,\u001b[0m \u001b[0maxis\u001b[0m\u001b[0;34m=\u001b[0m\u001b[0maxis\u001b[0m\u001b[0;34m)\u001b[0m\u001b[0;34m\u001b[0m\u001b[0;34m\u001b[0m\u001b[0m\n",
      "\u001b[0;32m~/opt/anaconda3/lib/python3.9/site-packages/pandas/core/indexing.py\u001b[0m in \u001b[0;36mcheck_bool_indexer\u001b[0;34m(index, key)\u001b[0m\n\u001b[1;32m   2399\u001b[0m         \u001b[0;31m# key may contain nan elements, check_array_indexer needs bool array\u001b[0m\u001b[0;34m\u001b[0m\u001b[0;34m\u001b[0m\u001b[0m\n\u001b[1;32m   2400\u001b[0m         \u001b[0mresult\u001b[0m \u001b[0;34m=\u001b[0m \u001b[0mpd_array\u001b[0m\u001b[0;34m(\u001b[0m\u001b[0mresult\u001b[0m\u001b[0;34m,\u001b[0m \u001b[0mdtype\u001b[0m\u001b[0;34m=\u001b[0m\u001b[0mbool\u001b[0m\u001b[0;34m)\u001b[0m\u001b[0;34m\u001b[0m\u001b[0;34m\u001b[0m\u001b[0m\n\u001b[0;32m-> 2401\u001b[0;31m     \u001b[0;32mreturn\u001b[0m \u001b[0mcheck_array_indexer\u001b[0m\u001b[0;34m(\u001b[0m\u001b[0mindex\u001b[0m\u001b[0;34m,\u001b[0m \u001b[0mresult\u001b[0m\u001b[0;34m)\u001b[0m\u001b[0;34m\u001b[0m\u001b[0;34m\u001b[0m\u001b[0m\n\u001b[0m\u001b[1;32m   2402\u001b[0m \u001b[0;34m\u001b[0m\u001b[0m\n\u001b[1;32m   2403\u001b[0m \u001b[0;34m\u001b[0m\u001b[0m\n",
      "\u001b[0;32m~/opt/anaconda3/lib/python3.9/site-packages/pandas/core/indexers/utils.py\u001b[0m in \u001b[0;36mcheck_array_indexer\u001b[0;34m(array, indexer)\u001b[0m\n\u001b[1;32m    577\u001b[0m         \u001b[0;31m# GH26658\u001b[0m\u001b[0;34m\u001b[0m\u001b[0;34m\u001b[0m\u001b[0m\n\u001b[1;32m    578\u001b[0m         \u001b[0;32mif\u001b[0m \u001b[0mlen\u001b[0m\u001b[0;34m(\u001b[0m\u001b[0mindexer\u001b[0m\u001b[0;34m)\u001b[0m \u001b[0;34m!=\u001b[0m \u001b[0mlen\u001b[0m\u001b[0;34m(\u001b[0m\u001b[0marray\u001b[0m\u001b[0;34m)\u001b[0m\u001b[0;34m:\u001b[0m\u001b[0;34m\u001b[0m\u001b[0;34m\u001b[0m\u001b[0m\n\u001b[0;32m--> 579\u001b[0;31m             raise IndexError(\n\u001b[0m\u001b[1;32m    580\u001b[0m                 \u001b[0;34mf\"Boolean index has wrong length: \"\u001b[0m\u001b[0;34m\u001b[0m\u001b[0;34m\u001b[0m\u001b[0m\n\u001b[1;32m    581\u001b[0m                 \u001b[0;34mf\"{len(indexer)} instead of {len(array)}\"\u001b[0m\u001b[0;34m\u001b[0m\u001b[0;34m\u001b[0m\u001b[0m\n",
      "\u001b[0;31mIndexError\u001b[0m: Boolean index has wrong length: 37 instead of 182"
     ]
    }
   ],
   "source": [
    "\n",
    "# Split the data\n",
    "X_train, X_test, y_train, y_test = train_test_split(X, y, test_size=0.2, random_state=42)\n",
    "\n",
    "# Train the model\n",
    "model = GaussianNB()\n",
    "model.fit(X_train, y_train)\n",
    "\n",
    "# Predict liked songs\n",
    "y_pred = model.predict(X_test)\n",
    "\n",
    "# Generate recommendations\n",
    "recommendations = merged_data.loc[y_pred == 1, ['song_name', 'artists']]\n",
    "\n",
    "# Display recommendations\n",
    "print(\"Recommended Songs:\")\n",
    "print(recommendations)\n",
    "\n"
   ]
  },
  {
   "cell_type": "code",
   "execution_count": 29,
   "id": "54b7b4ed-40ae-4eea-bef1-f0cfdb8aab7e",
   "metadata": {},
   "outputs": [
    {
     "name": "stdout",
     "output_type": "stream",
     "text": [
      "y_pred summary:\n",
      "count    37.000000\n",
      "mean      0.837838\n",
      "std       0.373684\n",
      "min       0.000000\n",
      "25%       1.000000\n",
      "50%       1.000000\n",
      "75%       1.000000\n",
      "max       1.000000\n",
      "dtype: float64\n",
      "merged_data summary:\n",
      "            msPlayed  liked_or_not   Unnamed: 0_x  popularity    duration_ms  \\\n",
      "count     182.000000    182.000000     182.000000  182.000000     182.000000   \n",
      "mean   136014.989011      0.901099   45391.483516   74.329670  225666.225275   \n",
      "std    108674.859636      0.299353   31242.235449   10.602882   38403.015534   \n",
      "min         0.000000      0.000000      86.000000   50.000000  177280.000000   \n",
      "25%      3076.500000      1.000000   20668.000000   74.000000  206880.000000   \n",
      "50%    177280.000000      1.000000   33157.000000   80.000000  216013.000000   \n",
      "75%    207607.500000      1.000000   86052.000000   80.000000  267653.000000   \n",
      "max    410048.000000      1.000000  107002.000000   87.000000  301920.000000   \n",
      "\n",
      "       danceability      energy         key    loudness        mode  \\\n",
      "count    182.000000  182.000000  182.000000  182.000000  182.000000   \n",
      "mean       0.583846    0.768110    5.181319   -5.123302    0.719780   \n",
      "std        0.120016    0.139813    2.734087    1.244729    0.450345   \n",
      "min        0.452000    0.563000    0.000000   -6.684000    0.000000   \n",
      "25%        0.471000    0.653000    4.000000   -6.607000    0.000000   \n",
      "50%        0.555000    0.769500    5.000000   -4.952000    1.000000   \n",
      "75%        0.695000    0.922500    8.000000   -3.906000    1.000000   \n",
      "max        0.762000    0.924000   11.000000   -1.702000    1.000000   \n",
      "\n",
      "       speechiness  acousticness  instrumentalness    liveness     valence  \\\n",
      "count   182.000000    182.000000        182.000000  182.000000  182.000000   \n",
      "mean      0.048894      0.049290          0.000313    0.142612    0.598264   \n",
      "std       0.018067      0.065411          0.002271    0.094711    0.240032   \n",
      "min       0.027200      0.000025          0.000000    0.021900    0.209000   \n",
      "25%       0.031975      0.003010          0.000000    0.056100    0.350000   \n",
      "50%       0.044000      0.009800          0.000000    0.143000    0.720000   \n",
      "75%       0.058600      0.125000          0.000016    0.153000    0.758000   \n",
      "max       0.104000      0.310000          0.017800    0.347000    0.916000   \n",
      "\n",
      "            tempo  time_signature  Unnamed: 0_y  \n",
      "count  182.000000       182.00000           0.0  \n",
      "mean   135.196588         3.78022           NaN  \n",
      "std     15.899079         0.41524           NaN  \n",
      "min    110.003000         3.00000           NaN  \n",
      "25%    119.965000         4.00000           NaN  \n",
      "50%    137.715000         4.00000           NaN  \n",
      "75%    148.128000         4.00000           NaN  \n",
      "max    185.063000         4.00000           NaN  \n"
     ]
    }
   ],
   "source": [
    "print(\"y_pred summary:\")\n",
    "print(pd.Series(y_pred).describe())\n",
    "\n",
    "print(\"merged_data summary:\")\n",
    "print(merged_data.describe())"
   ]
  },
  {
   "cell_type": "code",
   "execution_count": null,
   "id": "7a685da4-af23-4596-8981-349add2839df",
   "metadata": {},
   "outputs": [],
   "source": []
  }
 ],
 "metadata": {
  "kernelspec": {
   "display_name": "Python 3 (ipykernel)",
   "language": "python",
   "name": "python3"
  },
  "language_info": {
   "codemirror_mode": {
    "name": "ipython",
    "version": 3
   },
   "file_extension": ".py",
   "mimetype": "text/x-python",
   "name": "python",
   "nbconvert_exporter": "python",
   "pygments_lexer": "ipython3",
   "version": "3.9.13"
  }
 },
 "nbformat": 4,
 "nbformat_minor": 5
}
